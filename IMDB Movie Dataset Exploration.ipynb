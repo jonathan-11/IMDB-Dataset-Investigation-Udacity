{
 "cells": [
  {
   "cell_type": "markdown",
   "metadata": {},
   "source": [
    "# Project: Exploring relationships within the IMDB movie dataset\n",
    "\n",
    "## Table of Contents\n",
    "<ul>\n",
    "<li><a href=\"#intro\">Introduction</a></li>\n",
    "<li><a href=\"#wrangling\">Data Wrangling</a></li>\n",
    "<li><a href=\"#eda\">Exploratory Data Analysis</a></li>\n",
    "<li><a href=\"#conclusions\">Conclusions</a></li>\n",
    "</ul>"
   ]
  },
  {
   "cell_type": "markdown",
   "metadata": {},
   "source": [
    "<a id='intro'></a>\n",
    "## Introduction"
   ]
  },
  {
   "cell_type": "code",
   "execution_count": 81,
   "metadata": {},
   "outputs": [],
   "source": [
    "import pandas as pd\n",
    "import matplotlib.pyplot as plt\n",
    "import numpy as np\n",
    "%matplotlib inline"
   ]
  },
  {
   "cell_type": "markdown",
   "metadata": {},
   "source": [
    "<a id='wrangling'></a>\n",
    "## Data Wrangling\n",
    "\n",
    "### General Properties"
   ]
  },
  {
   "cell_type": "code",
   "execution_count": 82,
   "metadata": {},
   "outputs": [
    {
     "data": {
      "text/html": [
       "<div>\n",
       "<style scoped>\n",
       "    .dataframe tbody tr th:only-of-type {\n",
       "        vertical-align: middle;\n",
       "    }\n",
       "\n",
       "    .dataframe tbody tr th {\n",
       "        vertical-align: top;\n",
       "    }\n",
       "\n",
       "    .dataframe thead th {\n",
       "        text-align: right;\n",
       "    }\n",
       "</style>\n",
       "<table border=\"1\" class=\"dataframe\">\n",
       "  <thead>\n",
       "    <tr style=\"text-align: right;\">\n",
       "      <th></th>\n",
       "      <th>id</th>\n",
       "      <th>imdb_id</th>\n",
       "      <th>popularity</th>\n",
       "      <th>budget</th>\n",
       "      <th>revenue</th>\n",
       "      <th>original_title</th>\n",
       "      <th>cast</th>\n",
       "      <th>homepage</th>\n",
       "      <th>director</th>\n",
       "      <th>tagline</th>\n",
       "      <th>...</th>\n",
       "      <th>overview</th>\n",
       "      <th>runtime</th>\n",
       "      <th>genres</th>\n",
       "      <th>production_companies</th>\n",
       "      <th>release_date</th>\n",
       "      <th>vote_count</th>\n",
       "      <th>vote_average</th>\n",
       "      <th>release_year</th>\n",
       "      <th>budget_adj</th>\n",
       "      <th>revenue_adj</th>\n",
       "    </tr>\n",
       "  </thead>\n",
       "  <tbody>\n",
       "    <tr>\n",
       "      <th>0</th>\n",
       "      <td>135397</td>\n",
       "      <td>tt0369610</td>\n",
       "      <td>32.985763</td>\n",
       "      <td>150000000</td>\n",
       "      <td>1513528810</td>\n",
       "      <td>Jurassic World</td>\n",
       "      <td>Chris Pratt|Bryce Dallas Howard|Irrfan Khan|Vi...</td>\n",
       "      <td>http://www.jurassicworld.com/</td>\n",
       "      <td>Colin Trevorrow</td>\n",
       "      <td>The park is open.</td>\n",
       "      <td>...</td>\n",
       "      <td>Twenty-two years after the events of Jurassic ...</td>\n",
       "      <td>124</td>\n",
       "      <td>Action|Adventure|Science Fiction|Thriller</td>\n",
       "      <td>Universal Studios|Amblin Entertainment|Legenda...</td>\n",
       "      <td>6/9/15</td>\n",
       "      <td>5562</td>\n",
       "      <td>6.5</td>\n",
       "      <td>2015</td>\n",
       "      <td>1.379999e+08</td>\n",
       "      <td>1.392446e+09</td>\n",
       "    </tr>\n",
       "    <tr>\n",
       "      <th>1</th>\n",
       "      <td>76341</td>\n",
       "      <td>tt1392190</td>\n",
       "      <td>28.419936</td>\n",
       "      <td>150000000</td>\n",
       "      <td>378436354</td>\n",
       "      <td>Mad Max: Fury Road</td>\n",
       "      <td>Tom Hardy|Charlize Theron|Hugh Keays-Byrne|Nic...</td>\n",
       "      <td>http://www.madmaxmovie.com/</td>\n",
       "      <td>George Miller</td>\n",
       "      <td>What a Lovely Day.</td>\n",
       "      <td>...</td>\n",
       "      <td>An apocalyptic story set in the furthest reach...</td>\n",
       "      <td>120</td>\n",
       "      <td>Action|Adventure|Science Fiction|Thriller</td>\n",
       "      <td>Village Roadshow Pictures|Kennedy Miller Produ...</td>\n",
       "      <td>5/13/15</td>\n",
       "      <td>6185</td>\n",
       "      <td>7.1</td>\n",
       "      <td>2015</td>\n",
       "      <td>1.379999e+08</td>\n",
       "      <td>3.481613e+08</td>\n",
       "    </tr>\n",
       "    <tr>\n",
       "      <th>2</th>\n",
       "      <td>262500</td>\n",
       "      <td>tt2908446</td>\n",
       "      <td>13.112507</td>\n",
       "      <td>110000000</td>\n",
       "      <td>295238201</td>\n",
       "      <td>Insurgent</td>\n",
       "      <td>Shailene Woodley|Theo James|Kate Winslet|Ansel...</td>\n",
       "      <td>http://www.thedivergentseries.movie/#insurgent</td>\n",
       "      <td>Robert Schwentke</td>\n",
       "      <td>One Choice Can Destroy You</td>\n",
       "      <td>...</td>\n",
       "      <td>Beatrice Prior must confront her inner demons ...</td>\n",
       "      <td>119</td>\n",
       "      <td>Adventure|Science Fiction|Thriller</td>\n",
       "      <td>Summit Entertainment|Mandeville Films|Red Wago...</td>\n",
       "      <td>3/18/15</td>\n",
       "      <td>2480</td>\n",
       "      <td>6.3</td>\n",
       "      <td>2015</td>\n",
       "      <td>1.012000e+08</td>\n",
       "      <td>2.716190e+08</td>\n",
       "    </tr>\n",
       "    <tr>\n",
       "      <th>3</th>\n",
       "      <td>140607</td>\n",
       "      <td>tt2488496</td>\n",
       "      <td>11.173104</td>\n",
       "      <td>200000000</td>\n",
       "      <td>2068178225</td>\n",
       "      <td>Star Wars: The Force Awakens</td>\n",
       "      <td>Harrison Ford|Mark Hamill|Carrie Fisher|Adam D...</td>\n",
       "      <td>http://www.starwars.com/films/star-wars-episod...</td>\n",
       "      <td>J.J. Abrams</td>\n",
       "      <td>Every generation has a story.</td>\n",
       "      <td>...</td>\n",
       "      <td>Thirty years after defeating the Galactic Empi...</td>\n",
       "      <td>136</td>\n",
       "      <td>Action|Adventure|Science Fiction|Fantasy</td>\n",
       "      <td>Lucasfilm|Truenorth Productions|Bad Robot</td>\n",
       "      <td>12/15/15</td>\n",
       "      <td>5292</td>\n",
       "      <td>7.5</td>\n",
       "      <td>2015</td>\n",
       "      <td>1.839999e+08</td>\n",
       "      <td>1.902723e+09</td>\n",
       "    </tr>\n",
       "    <tr>\n",
       "      <th>4</th>\n",
       "      <td>168259</td>\n",
       "      <td>tt2820852</td>\n",
       "      <td>9.335014</td>\n",
       "      <td>190000000</td>\n",
       "      <td>1506249360</td>\n",
       "      <td>Furious 7</td>\n",
       "      <td>Vin Diesel|Paul Walker|Jason Statham|Michelle ...</td>\n",
       "      <td>http://www.furious7.com/</td>\n",
       "      <td>James Wan</td>\n",
       "      <td>Vengeance Hits Home</td>\n",
       "      <td>...</td>\n",
       "      <td>Deckard Shaw seeks revenge against Dominic Tor...</td>\n",
       "      <td>137</td>\n",
       "      <td>Action|Crime|Thriller</td>\n",
       "      <td>Universal Pictures|Original Film|Media Rights ...</td>\n",
       "      <td>4/1/15</td>\n",
       "      <td>2947</td>\n",
       "      <td>7.3</td>\n",
       "      <td>2015</td>\n",
       "      <td>1.747999e+08</td>\n",
       "      <td>1.385749e+09</td>\n",
       "    </tr>\n",
       "  </tbody>\n",
       "</table>\n",
       "<p>5 rows × 21 columns</p>\n",
       "</div>"
      ],
      "text/plain": [
       "       id    imdb_id  popularity     budget     revenue  \\\n",
       "0  135397  tt0369610   32.985763  150000000  1513528810   \n",
       "1   76341  tt1392190   28.419936  150000000   378436354   \n",
       "2  262500  tt2908446   13.112507  110000000   295238201   \n",
       "3  140607  tt2488496   11.173104  200000000  2068178225   \n",
       "4  168259  tt2820852    9.335014  190000000  1506249360   \n",
       "\n",
       "                 original_title  \\\n",
       "0                Jurassic World   \n",
       "1            Mad Max: Fury Road   \n",
       "2                     Insurgent   \n",
       "3  Star Wars: The Force Awakens   \n",
       "4                     Furious 7   \n",
       "\n",
       "                                                cast  \\\n",
       "0  Chris Pratt|Bryce Dallas Howard|Irrfan Khan|Vi...   \n",
       "1  Tom Hardy|Charlize Theron|Hugh Keays-Byrne|Nic...   \n",
       "2  Shailene Woodley|Theo James|Kate Winslet|Ansel...   \n",
       "3  Harrison Ford|Mark Hamill|Carrie Fisher|Adam D...   \n",
       "4  Vin Diesel|Paul Walker|Jason Statham|Michelle ...   \n",
       "\n",
       "                                            homepage          director  \\\n",
       "0                      http://www.jurassicworld.com/   Colin Trevorrow   \n",
       "1                        http://www.madmaxmovie.com/     George Miller   \n",
       "2     http://www.thedivergentseries.movie/#insurgent  Robert Schwentke   \n",
       "3  http://www.starwars.com/films/star-wars-episod...       J.J. Abrams   \n",
       "4                           http://www.furious7.com/         James Wan   \n",
       "\n",
       "                         tagline      ...       \\\n",
       "0              The park is open.      ...        \n",
       "1             What a Lovely Day.      ...        \n",
       "2     One Choice Can Destroy You      ...        \n",
       "3  Every generation has a story.      ...        \n",
       "4            Vengeance Hits Home      ...        \n",
       "\n",
       "                                            overview runtime  \\\n",
       "0  Twenty-two years after the events of Jurassic ...     124   \n",
       "1  An apocalyptic story set in the furthest reach...     120   \n",
       "2  Beatrice Prior must confront her inner demons ...     119   \n",
       "3  Thirty years after defeating the Galactic Empi...     136   \n",
       "4  Deckard Shaw seeks revenge against Dominic Tor...     137   \n",
       "\n",
       "                                      genres  \\\n",
       "0  Action|Adventure|Science Fiction|Thriller   \n",
       "1  Action|Adventure|Science Fiction|Thriller   \n",
       "2         Adventure|Science Fiction|Thriller   \n",
       "3   Action|Adventure|Science Fiction|Fantasy   \n",
       "4                      Action|Crime|Thriller   \n",
       "\n",
       "                                production_companies release_date vote_count  \\\n",
       "0  Universal Studios|Amblin Entertainment|Legenda...       6/9/15       5562   \n",
       "1  Village Roadshow Pictures|Kennedy Miller Produ...      5/13/15       6185   \n",
       "2  Summit Entertainment|Mandeville Films|Red Wago...      3/18/15       2480   \n",
       "3          Lucasfilm|Truenorth Productions|Bad Robot     12/15/15       5292   \n",
       "4  Universal Pictures|Original Film|Media Rights ...       4/1/15       2947   \n",
       "\n",
       "   vote_average  release_year    budget_adj   revenue_adj  \n",
       "0           6.5          2015  1.379999e+08  1.392446e+09  \n",
       "1           7.1          2015  1.379999e+08  3.481613e+08  \n",
       "2           6.3          2015  1.012000e+08  2.716190e+08  \n",
       "3           7.5          2015  1.839999e+08  1.902723e+09  \n",
       "4           7.3          2015  1.747999e+08  1.385749e+09  \n",
       "\n",
       "[5 rows x 21 columns]"
      ]
     },
     "execution_count": 82,
     "metadata": {},
     "output_type": "execute_result"
    }
   ],
   "source": [
    "df_movies = pd.read_csv('tmdb-movies.csv')\n",
    "df_movies.head()"
   ]
  },
  {
   "cell_type": "markdown",
   "metadata": {},
   "source": [
    "##### The columns seem to have some problems. There are many unnecessary columns like tagline and overview which will not have a significant effect on the other variables in this dataset. "
   ]
  },
  {
   "cell_type": "code",
   "execution_count": null,
   "metadata": {},
   "outputs": [],
   "source": []
  },
  {
   "cell_type": "markdown",
   "metadata": {},
   "source": [
    "#### Checking for missing values...."
   ]
  },
  {
   "cell_type": "code",
   "execution_count": 83,
   "metadata": {},
   "outputs": [
    {
     "data": {
      "text/plain": [
       "id                         0\n",
       "imdb_id                   10\n",
       "popularity                 0\n",
       "budget                     0\n",
       "revenue                    0\n",
       "original_title             0\n",
       "cast                      76\n",
       "homepage                7930\n",
       "director                  44\n",
       "tagline                 2824\n",
       "keywords                1493\n",
       "overview                   4\n",
       "runtime                    0\n",
       "genres                    23\n",
       "production_companies    1030\n",
       "release_date               0\n",
       "vote_count                 0\n",
       "vote_average               0\n",
       "release_year               0\n",
       "budget_adj                 0\n",
       "revenue_adj                0\n",
       "dtype: int64"
      ]
     },
     "execution_count": 83,
     "metadata": {},
     "output_type": "execute_result"
    }
   ],
   "source": [
    "df_movies.isnull().sum()"
   ]
  },
  {
   "cell_type": "markdown",
   "metadata": {},
   "source": [
    "#### Well....\n",
    "\n",
    "#### Four of the columns with missing values (imdb_id,homepage,keywords,overview) don't seem to contrbute much to the dataset...\n"
   ]
  },
  {
   "cell_type": "code",
   "execution_count": null,
   "metadata": {},
   "outputs": [],
   "source": []
  },
  {
   "cell_type": "markdown",
   "metadata": {},
   "source": [
    "## Let me explore some stats in my dataset"
   ]
  },
  {
   "cell_type": "code",
   "execution_count": 84,
   "metadata": {},
   "outputs": [
    {
     "data": {
      "text/html": [
       "<div>\n",
       "<style scoped>\n",
       "    .dataframe tbody tr th:only-of-type {\n",
       "        vertical-align: middle;\n",
       "    }\n",
       "\n",
       "    .dataframe tbody tr th {\n",
       "        vertical-align: top;\n",
       "    }\n",
       "\n",
       "    .dataframe thead th {\n",
       "        text-align: right;\n",
       "    }\n",
       "</style>\n",
       "<table border=\"1\" class=\"dataframe\">\n",
       "  <thead>\n",
       "    <tr style=\"text-align: right;\">\n",
       "      <th></th>\n",
       "      <th>id</th>\n",
       "      <th>popularity</th>\n",
       "      <th>budget</th>\n",
       "      <th>revenue</th>\n",
       "      <th>runtime</th>\n",
       "      <th>vote_count</th>\n",
       "      <th>vote_average</th>\n",
       "      <th>release_year</th>\n",
       "      <th>budget_adj</th>\n",
       "      <th>revenue_adj</th>\n",
       "    </tr>\n",
       "  </thead>\n",
       "  <tbody>\n",
       "    <tr>\n",
       "      <th>count</th>\n",
       "      <td>10866.000000</td>\n",
       "      <td>10866.000000</td>\n",
       "      <td>1.086600e+04</td>\n",
       "      <td>1.086600e+04</td>\n",
       "      <td>10866.000000</td>\n",
       "      <td>10866.000000</td>\n",
       "      <td>10866.000000</td>\n",
       "      <td>10866.000000</td>\n",
       "      <td>1.086600e+04</td>\n",
       "      <td>1.086600e+04</td>\n",
       "    </tr>\n",
       "    <tr>\n",
       "      <th>mean</th>\n",
       "      <td>66064.177434</td>\n",
       "      <td>0.646441</td>\n",
       "      <td>1.462570e+07</td>\n",
       "      <td>3.982332e+07</td>\n",
       "      <td>102.070863</td>\n",
       "      <td>217.389748</td>\n",
       "      <td>5.974922</td>\n",
       "      <td>2001.322658</td>\n",
       "      <td>1.755104e+07</td>\n",
       "      <td>5.136436e+07</td>\n",
       "    </tr>\n",
       "    <tr>\n",
       "      <th>std</th>\n",
       "      <td>92130.136561</td>\n",
       "      <td>1.000185</td>\n",
       "      <td>3.091321e+07</td>\n",
       "      <td>1.170035e+08</td>\n",
       "      <td>31.381405</td>\n",
       "      <td>575.619058</td>\n",
       "      <td>0.935142</td>\n",
       "      <td>12.812941</td>\n",
       "      <td>3.430616e+07</td>\n",
       "      <td>1.446325e+08</td>\n",
       "    </tr>\n",
       "    <tr>\n",
       "      <th>min</th>\n",
       "      <td>5.000000</td>\n",
       "      <td>0.000065</td>\n",
       "      <td>0.000000e+00</td>\n",
       "      <td>0.000000e+00</td>\n",
       "      <td>0.000000</td>\n",
       "      <td>10.000000</td>\n",
       "      <td>1.500000</td>\n",
       "      <td>1960.000000</td>\n",
       "      <td>0.000000e+00</td>\n",
       "      <td>0.000000e+00</td>\n",
       "    </tr>\n",
       "    <tr>\n",
       "      <th>25%</th>\n",
       "      <td>10596.250000</td>\n",
       "      <td>0.207583</td>\n",
       "      <td>0.000000e+00</td>\n",
       "      <td>0.000000e+00</td>\n",
       "      <td>90.000000</td>\n",
       "      <td>17.000000</td>\n",
       "      <td>5.400000</td>\n",
       "      <td>1995.000000</td>\n",
       "      <td>0.000000e+00</td>\n",
       "      <td>0.000000e+00</td>\n",
       "    </tr>\n",
       "    <tr>\n",
       "      <th>50%</th>\n",
       "      <td>20669.000000</td>\n",
       "      <td>0.383856</td>\n",
       "      <td>0.000000e+00</td>\n",
       "      <td>0.000000e+00</td>\n",
       "      <td>99.000000</td>\n",
       "      <td>38.000000</td>\n",
       "      <td>6.000000</td>\n",
       "      <td>2006.000000</td>\n",
       "      <td>0.000000e+00</td>\n",
       "      <td>0.000000e+00</td>\n",
       "    </tr>\n",
       "    <tr>\n",
       "      <th>75%</th>\n",
       "      <td>75610.000000</td>\n",
       "      <td>0.713817</td>\n",
       "      <td>1.500000e+07</td>\n",
       "      <td>2.400000e+07</td>\n",
       "      <td>111.000000</td>\n",
       "      <td>145.750000</td>\n",
       "      <td>6.600000</td>\n",
       "      <td>2011.000000</td>\n",
       "      <td>2.085325e+07</td>\n",
       "      <td>3.369710e+07</td>\n",
       "    </tr>\n",
       "    <tr>\n",
       "      <th>max</th>\n",
       "      <td>417859.000000</td>\n",
       "      <td>32.985763</td>\n",
       "      <td>4.250000e+08</td>\n",
       "      <td>2.781506e+09</td>\n",
       "      <td>900.000000</td>\n",
       "      <td>9767.000000</td>\n",
       "      <td>9.200000</td>\n",
       "      <td>2015.000000</td>\n",
       "      <td>4.250000e+08</td>\n",
       "      <td>2.827124e+09</td>\n",
       "    </tr>\n",
       "  </tbody>\n",
       "</table>\n",
       "</div>"
      ],
      "text/plain": [
       "                  id    popularity        budget       revenue       runtime  \\\n",
       "count   10866.000000  10866.000000  1.086600e+04  1.086600e+04  10866.000000   \n",
       "mean    66064.177434      0.646441  1.462570e+07  3.982332e+07    102.070863   \n",
       "std     92130.136561      1.000185  3.091321e+07  1.170035e+08     31.381405   \n",
       "min         5.000000      0.000065  0.000000e+00  0.000000e+00      0.000000   \n",
       "25%     10596.250000      0.207583  0.000000e+00  0.000000e+00     90.000000   \n",
       "50%     20669.000000      0.383856  0.000000e+00  0.000000e+00     99.000000   \n",
       "75%     75610.000000      0.713817  1.500000e+07  2.400000e+07    111.000000   \n",
       "max    417859.000000     32.985763  4.250000e+08  2.781506e+09    900.000000   \n",
       "\n",
       "         vote_count  vote_average  release_year    budget_adj   revenue_adj  \n",
       "count  10866.000000  10866.000000  10866.000000  1.086600e+04  1.086600e+04  \n",
       "mean     217.389748      5.974922   2001.322658  1.755104e+07  5.136436e+07  \n",
       "std      575.619058      0.935142     12.812941  3.430616e+07  1.446325e+08  \n",
       "min       10.000000      1.500000   1960.000000  0.000000e+00  0.000000e+00  \n",
       "25%       17.000000      5.400000   1995.000000  0.000000e+00  0.000000e+00  \n",
       "50%       38.000000      6.000000   2006.000000  0.000000e+00  0.000000e+00  \n",
       "75%      145.750000      6.600000   2011.000000  2.085325e+07  3.369710e+07  \n",
       "max     9767.000000      9.200000   2015.000000  4.250000e+08  2.827124e+09  "
      ]
     },
     "execution_count": 84,
     "metadata": {},
     "output_type": "execute_result"
    }
   ],
   "source": [
    "df_movies.describe()"
   ]
  },
  {
   "cell_type": "markdown",
   "metadata": {},
   "source": [
    "### Some more problems with the data in this dataset..."
   ]
  },
  {
   "cell_type": "markdown",
   "metadata": {},
   "source": [
    "\n",
    "#### 1) The budget and revenue columns are zero in their 25th and 50th quartiles. I checked the page on Kaggle and it has been mentioned that the data is associated with films which have a very small budget and revenue (in comparison to films which have a budget and revenue greater than a hundred million dollars), hence the zeroes in that place.\n",
    "\n",
    "#### 2) The same problem is faced by the budget_adj and revenue_adj columns. (The columns which account of the inflation around 2010)\n",
    "\n",
    "#### 3) The statistics in the ID column most ceratinly will not play a big role in identifying relationships within this dataset\n"
   ]
  },
  {
   "cell_type": "code",
   "execution_count": null,
   "metadata": {},
   "outputs": [],
   "source": []
  },
  {
   "cell_type": "markdown",
   "metadata": {},
   "source": [
    "### Checking the datatypes of all the columns in this dataset"
   ]
  },
  {
   "cell_type": "code",
   "execution_count": 85,
   "metadata": {},
   "outputs": [
    {
     "name": "stdout",
     "output_type": "stream",
     "text": [
      "<class 'pandas.core.frame.DataFrame'>\n",
      "RangeIndex: 10866 entries, 0 to 10865\n",
      "Data columns (total 21 columns):\n",
      "id                      10866 non-null int64\n",
      "imdb_id                 10856 non-null object\n",
      "popularity              10866 non-null float64\n",
      "budget                  10866 non-null int64\n",
      "revenue                 10866 non-null int64\n",
      "original_title          10866 non-null object\n",
      "cast                    10790 non-null object\n",
      "homepage                2936 non-null object\n",
      "director                10822 non-null object\n",
      "tagline                 8042 non-null object\n",
      "keywords                9373 non-null object\n",
      "overview                10862 non-null object\n",
      "runtime                 10866 non-null int64\n",
      "genres                  10843 non-null object\n",
      "production_companies    9836 non-null object\n",
      "release_date            10866 non-null object\n",
      "vote_count              10866 non-null int64\n",
      "vote_average            10866 non-null float64\n",
      "release_year            10866 non-null int64\n",
      "budget_adj              10866 non-null float64\n",
      "revenue_adj             10866 non-null float64\n",
      "dtypes: float64(4), int64(6), object(11)\n",
      "memory usage: 1.7+ MB\n"
     ]
    }
   ],
   "source": [
    "df_movies.info()"
   ]
  },
  {
   "cell_type": "markdown",
   "metadata": {},
   "source": [
    "### Another problem...\n",
    "\n",
    "#### The Genre column in this dataset contains some floating point values (instead of string/objects)\n",
    "\n",
    "#### Running this piece of code later on in the investigation will give us an Attribute Error which says \n",
    "\n",
    "\"Float object has no attribute 'split'\""
   ]
  },
  {
   "cell_type": "code",
   "execution_count": 86,
   "metadata": {},
   "outputs": [
    {
     "data": {
      "text/plain": [
       "'\"\\nfor i in range(600):\\n    \\n    if \\'Action\\' in df_movies[\\'genres\\'][i].split(\\'|\\'):\\n        df_action = df_action.append(df_movies.iloc[i])\\n        \\n'"
      ]
     },
     "execution_count": 86,
     "metadata": {},
     "output_type": "execute_result"
    }
   ],
   "source": [
    "\"\"\"\"\n",
    "for i in range(600):\n",
    "    \n",
    "    if 'Action' in df_movies['genres'][i].split('|'):\n",
    "        df_action = df_action.append(df_movies.iloc[i])\n",
    "        \n",
    "\"\"\"\n"
   ]
  },
  {
   "cell_type": "code",
   "execution_count": null,
   "metadata": {},
   "outputs": [],
   "source": []
  },
  {
   "cell_type": "markdown",
   "metadata": {},
   "source": [
    "### Data Cleaning \n",
    "\n",
    "#### 1) Dropping the unnecessary columns\n",
    "#### 2) Replacing the Zeroes in the runtime column with NaN\n",
    "#### 3) Checking for duplicate values in the rows"
   ]
  },
  {
   "cell_type": "code",
   "execution_count": null,
   "metadata": {},
   "outputs": [],
   "source": []
  },
  {
   "cell_type": "markdown",
   "metadata": {},
   "source": [
    "###  Dropping the unncessary columns"
   ]
  },
  {
   "cell_type": "code",
   "execution_count": 87,
   "metadata": {},
   "outputs": [
    {
     "data": {
      "text/html": [
       "<div>\n",
       "<style scoped>\n",
       "    .dataframe tbody tr th:only-of-type {\n",
       "        vertical-align: middle;\n",
       "    }\n",
       "\n",
       "    .dataframe tbody tr th {\n",
       "        vertical-align: top;\n",
       "    }\n",
       "\n",
       "    .dataframe thead th {\n",
       "        text-align: right;\n",
       "    }\n",
       "</style>\n",
       "<table border=\"1\" class=\"dataframe\">\n",
       "  <thead>\n",
       "    <tr style=\"text-align: right;\">\n",
       "      <th></th>\n",
       "      <th>id</th>\n",
       "      <th>imdb_id</th>\n",
       "      <th>popularity</th>\n",
       "      <th>budget</th>\n",
       "      <th>revenue</th>\n",
       "      <th>original_title</th>\n",
       "      <th>cast</th>\n",
       "      <th>homepage</th>\n",
       "      <th>director</th>\n",
       "      <th>tagline</th>\n",
       "      <th>...</th>\n",
       "      <th>overview</th>\n",
       "      <th>runtime</th>\n",
       "      <th>genres</th>\n",
       "      <th>production_companies</th>\n",
       "      <th>release_date</th>\n",
       "      <th>vote_count</th>\n",
       "      <th>vote_average</th>\n",
       "      <th>release_year</th>\n",
       "      <th>budget_adj</th>\n",
       "      <th>revenue_adj</th>\n",
       "    </tr>\n",
       "  </thead>\n",
       "  <tbody>\n",
       "    <tr>\n",
       "      <th>0</th>\n",
       "      <td>135397</td>\n",
       "      <td>tt0369610</td>\n",
       "      <td>32.985763</td>\n",
       "      <td>150000000</td>\n",
       "      <td>1513528810</td>\n",
       "      <td>Jurassic World</td>\n",
       "      <td>Chris Pratt|Bryce Dallas Howard|Irrfan Khan|Vi...</td>\n",
       "      <td>http://www.jurassicworld.com/</td>\n",
       "      <td>Colin Trevorrow</td>\n",
       "      <td>The park is open.</td>\n",
       "      <td>...</td>\n",
       "      <td>Twenty-two years after the events of Jurassic ...</td>\n",
       "      <td>124</td>\n",
       "      <td>Action|Adventure|Science Fiction|Thriller</td>\n",
       "      <td>Universal Studios|Amblin Entertainment|Legenda...</td>\n",
       "      <td>6/9/15</td>\n",
       "      <td>5562</td>\n",
       "      <td>6.5</td>\n",
       "      <td>2015</td>\n",
       "      <td>1.379999e+08</td>\n",
       "      <td>1.392446e+09</td>\n",
       "    </tr>\n",
       "  </tbody>\n",
       "</table>\n",
       "<p>1 rows × 21 columns</p>\n",
       "</div>"
      ],
      "text/plain": [
       "       id    imdb_id  popularity     budget     revenue  original_title  \\\n",
       "0  135397  tt0369610   32.985763  150000000  1513528810  Jurassic World   \n",
       "\n",
       "                                                cast  \\\n",
       "0  Chris Pratt|Bryce Dallas Howard|Irrfan Khan|Vi...   \n",
       "\n",
       "                        homepage         director            tagline  \\\n",
       "0  http://www.jurassicworld.com/  Colin Trevorrow  The park is open.   \n",
       "\n",
       "       ...                                                overview runtime  \\\n",
       "0      ...       Twenty-two years after the events of Jurassic ...     124   \n",
       "\n",
       "                                      genres  \\\n",
       "0  Action|Adventure|Science Fiction|Thriller   \n",
       "\n",
       "                                production_companies release_date vote_count  \\\n",
       "0  Universal Studios|Amblin Entertainment|Legenda...       6/9/15       5562   \n",
       "\n",
       "   vote_average  release_year    budget_adj   revenue_adj  \n",
       "0           6.5          2015  1.379999e+08  1.392446e+09  \n",
       "\n",
       "[1 rows x 21 columns]"
      ]
     },
     "execution_count": 87,
     "metadata": {},
     "output_type": "execute_result"
    }
   ],
   "source": [
    "df_movies.head(1)"
   ]
  },
  {
   "cell_type": "code",
   "execution_count": 88,
   "metadata": {},
   "outputs": [],
   "source": [
    "df_movies.drop(['id','imdb_id','homepage','tagline','overview','keywords'], inplace = True, axis = 1)"
   ]
  },
  {
   "cell_type": "markdown",
   "metadata": {},
   "source": [
    "### Confirming dropped columns"
   ]
  },
  {
   "cell_type": "code",
   "execution_count": 89,
   "metadata": {},
   "outputs": [
    {
     "data": {
      "text/html": [
       "<div>\n",
       "<style scoped>\n",
       "    .dataframe tbody tr th:only-of-type {\n",
       "        vertical-align: middle;\n",
       "    }\n",
       "\n",
       "    .dataframe tbody tr th {\n",
       "        vertical-align: top;\n",
       "    }\n",
       "\n",
       "    .dataframe thead th {\n",
       "        text-align: right;\n",
       "    }\n",
       "</style>\n",
       "<table border=\"1\" class=\"dataframe\">\n",
       "  <thead>\n",
       "    <tr style=\"text-align: right;\">\n",
       "      <th></th>\n",
       "      <th>popularity</th>\n",
       "      <th>budget</th>\n",
       "      <th>revenue</th>\n",
       "      <th>original_title</th>\n",
       "      <th>cast</th>\n",
       "      <th>director</th>\n",
       "      <th>runtime</th>\n",
       "      <th>genres</th>\n",
       "      <th>production_companies</th>\n",
       "      <th>release_date</th>\n",
       "      <th>vote_count</th>\n",
       "      <th>vote_average</th>\n",
       "      <th>release_year</th>\n",
       "      <th>budget_adj</th>\n",
       "      <th>revenue_adj</th>\n",
       "    </tr>\n",
       "  </thead>\n",
       "  <tbody>\n",
       "    <tr>\n",
       "      <th>0</th>\n",
       "      <td>32.985763</td>\n",
       "      <td>150000000</td>\n",
       "      <td>1513528810</td>\n",
       "      <td>Jurassic World</td>\n",
       "      <td>Chris Pratt|Bryce Dallas Howard|Irrfan Khan|Vi...</td>\n",
       "      <td>Colin Trevorrow</td>\n",
       "      <td>124</td>\n",
       "      <td>Action|Adventure|Science Fiction|Thriller</td>\n",
       "      <td>Universal Studios|Amblin Entertainment|Legenda...</td>\n",
       "      <td>6/9/15</td>\n",
       "      <td>5562</td>\n",
       "      <td>6.5</td>\n",
       "      <td>2015</td>\n",
       "      <td>1.379999e+08</td>\n",
       "      <td>1.392446e+09</td>\n",
       "    </tr>\n",
       "  </tbody>\n",
       "</table>\n",
       "</div>"
      ],
      "text/plain": [
       "   popularity     budget     revenue  original_title  \\\n",
       "0   32.985763  150000000  1513528810  Jurassic World   \n",
       "\n",
       "                                                cast         director  \\\n",
       "0  Chris Pratt|Bryce Dallas Howard|Irrfan Khan|Vi...  Colin Trevorrow   \n",
       "\n",
       "   runtime                                     genres  \\\n",
       "0      124  Action|Adventure|Science Fiction|Thriller   \n",
       "\n",
       "                                production_companies release_date  vote_count  \\\n",
       "0  Universal Studios|Amblin Entertainment|Legenda...       6/9/15        5562   \n",
       "\n",
       "   vote_average  release_year    budget_adj   revenue_adj  \n",
       "0           6.5          2015  1.379999e+08  1.392446e+09  "
      ]
     },
     "execution_count": 89,
     "metadata": {},
     "output_type": "execute_result"
    }
   ],
   "source": [
    "df_movies.head(1)"
   ]
  },
  {
   "cell_type": "code",
   "execution_count": null,
   "metadata": {},
   "outputs": [],
   "source": []
  },
  {
   "cell_type": "markdown",
   "metadata": {},
   "source": [
    "### Replacting the Zeroes in the runtime column with Nan"
   ]
  },
  {
   "cell_type": "code",
   "execution_count": 90,
   "metadata": {},
   "outputs": [],
   "source": [
    "df_movies['runtime'] = df_movies['runtime'].replace(0,np.nan)"
   ]
  },
  {
   "cell_type": "markdown",
   "metadata": {},
   "source": [
    "### Checking for duplicate values"
   ]
  },
  {
   "cell_type": "code",
   "execution_count": 91,
   "metadata": {},
   "outputs": [
    {
     "data": {
      "text/plain": [
       "1"
      ]
     },
     "execution_count": 91,
     "metadata": {},
     "output_type": "execute_result"
    }
   ],
   "source": [
    "df_movies.duplicated().sum()"
   ]
  },
  {
   "cell_type": "markdown",
   "metadata": {},
   "source": [
    "### Dropping duplicate values"
   ]
  },
  {
   "cell_type": "code",
   "execution_count": 92,
   "metadata": {},
   "outputs": [],
   "source": [
    "df_movies.drop_duplicates(inplace=True)"
   ]
  },
  {
   "cell_type": "code",
   "execution_count": 93,
   "metadata": {},
   "outputs": [
    {
     "data": {
      "text/plain": [
       "0"
      ]
     },
     "execution_count": 93,
     "metadata": {},
     "output_type": "execute_result"
    }
   ],
   "source": [
    "#confirmation\n",
    "df_movies.duplicated().sum()"
   ]
  },
  {
   "cell_type": "markdown",
   "metadata": {},
   "source": [
    "<a id='eda'></a>\n",
    "# Exploratory Data Analysis\n"
   ]
  },
  {
   "cell_type": "markdown",
   "metadata": {},
   "source": [
    "<a id='q1'></a>\n",
    "## Research Question 1\n",
    "## How does a budget of a movie correlate to its revenue?¶"
   ]
  },
  {
   "cell_type": "code",
   "execution_count": 94,
   "metadata": {},
   "outputs": [
    {
     "data": {
      "image/png": "[encoded data removed]",
      "text/plain": [
       "<Figure size 432x288 with 1 Axes>"
      ]
     },
     "metadata": {
      "needs_background": "light"
     },
     "output_type": "display_data"
    }
   ],
   "source": [
    "# I will try to find a correlation between budget and revenue earned by a movie\n",
    "\n",
    "plt.scatter(df_movies.budget, df_movies.revenue, s=10)\n",
    "plt.xlabel('Budget in 100 million dollars')\n",
    "plt.ylabel('Revenue in 100 million dollars')\n",
    "plt.title('Budget vs Revenue for different movies');"
   ]
  },
  {
   "cell_type": "markdown",
   "metadata": {},
   "source": [
    "The plot looks confusing. Most of the budget and revenue dots seem to be concentrated towards the origin of the graph. \n",
    "\n",
    "Could there be a reason for this peculiar observation? Lets find out!"
   ]
  },
  {
   "cell_type": "code",
   "execution_count": 95,
   "metadata": {},
   "outputs": [
    {
     "data": {
      "text/plain": [
       "0.0"
      ]
     },
     "execution_count": 95,
     "metadata": {},
     "output_type": "execute_result"
    }
   ],
   "source": [
    "df_movies['budget'].median()"
   ]
  },
  {
   "cell_type": "code",
   "execution_count": 96,
   "metadata": {},
   "outputs": [
    {
     "data": {
      "text/plain": [
       "0.0"
      ]
     },
     "execution_count": 96,
     "metadata": {},
     "output_type": "execute_result"
    }
   ],
   "source": [
    "df_movies['revenue'].median()"
   ]
  },
  {
   "cell_type": "code",
   "execution_count": 97,
   "metadata": {},
   "outputs": [
    {
     "data": {
      "text/plain": [
       "count    1.086500e+04\n",
       "mean     1.462429e+07\n",
       "std      3.091428e+07\n",
       "min      0.000000e+00\n",
       "25%      0.000000e+00\n",
       "50%      0.000000e+00\n",
       "75%      1.500000e+07\n",
       "max      4.250000e+08\n",
       "Name: budget, dtype: float64"
      ]
     },
     "execution_count": 97,
     "metadata": {},
     "output_type": "execute_result"
    }
   ],
   "source": [
    "df_movies['budget'].describe()"
   ]
  },
  {
   "cell_type": "code",
   "execution_count": 98,
   "metadata": {},
   "outputs": [
    {
     "data": {
      "text/plain": [
       "count    1.086500e+04\n",
       "mean     3.982690e+07\n",
       "std      1.170083e+08\n",
       "min      0.000000e+00\n",
       "25%      0.000000e+00\n",
       "50%      0.000000e+00\n",
       "75%      2.400000e+07\n",
       "max      2.781506e+09\n",
       "Name: revenue, dtype: float64"
      ]
     },
     "execution_count": 98,
     "metadata": {},
     "output_type": "execute_result"
    }
   ],
   "source": [
    "df_movies['revenue'].describe()"
   ]
  },
  {
   "cell_type": "code",
   "execution_count": 99,
   "metadata": {},
   "outputs": [],
   "source": [
    "#There is a clear problem here.\n",
    "\n",
    "#The budget and revenues in upto the median value is equal to zero. \n",
    "\n",
    "#The description of the dataset on Kaggle shows that the movies with a zero as the value in the budget and revenue column have a negligible amount of the former and latter (in comparison to movies which have hundreds of millions in budget and revenue).\n",
    "\n",
    "#In order to have a clearer idea of the realtionships between the variables in the dataset, I will create two separate dataframes. \n",
    "\n",
    "#The first dataframe contains that half of the dataframe which has a budget greater than the median\n",
    "\n",
    "#The second dataframe contains that half of the dataframe which has a budget lesser than the median"
   ]
  },
  {
   "cell_type": "code",
   "execution_count": 100,
   "metadata": {},
   "outputs": [],
   "source": [
    "#Creating two separate dataframes.\n",
    "\n",
    "#The first dataframe contains that half of the dataframe which has a budget greater than the median\n",
    "\n",
    "#The second dataframe contains that half of the dataframe which has a budget lesser than the median\n",
    "\n",
    "df_low = df_movies[df_movies.budget < df_movies.budget.median()]\n",
    "df_high = df_movies[df_movies.budget > df_movies.budget.median()]"
   ]
  },
  {
   "cell_type": "markdown",
   "metadata": {},
   "source": [
    "#### Finding the revenue of the part of the dataset which has a budget lower than the median"
   ]
  },
  {
   "cell_type": "code",
   "execution_count": 101,
   "metadata": {},
   "outputs": [
    {
     "data": {
      "image/png": "[encoded data removed]",
      "text/plain": [
       "<Figure size 432x288 with 1 Axes>"
      ]
     },
     "metadata": {
      "needs_background": "light"
     },
     "output_type": "display_data"
    }
   ],
   "source": [
    "plt.plot(df_low['revenue'], scalex = False, scaley = False)\n",
    "plt.xlabel(\"Movies\")\n",
    "plt.ylabel(\"Revenue in 100 million dollars\")\n",
    "plt.title(\"Revenues of Movies with a budget lesser than the median\");\n",
    "plt.xticks(np.arange(0,10000,1000));\n",
    "plt.yticks(np.arange(0,3,0.5));"
   ]
  },
  {
   "cell_type": "markdown",
   "metadata": {},
   "source": [
    "#### Finding the revenue of that part of the dataset which has a budget higher than the median"
   ]
  },
  {
   "cell_type": "code",
   "execution_count": 102,
   "metadata": {},
   "outputs": [
    {
     "data": {
      "image/png": "[encoded data removed]",
      "text/plain": [
       "<Figure size 432x288 with 1 Axes>"
      ]
     },
     "metadata": {
      "needs_background": "light"
     },
     "output_type": "display_data"
    }
   ],
   "source": [
    "plt.plot(df_high['revenue']);\n",
    "plt.ylabel(\"Revenue in 100 million dollars\")\n",
    "plt.xlabel(\"Movies\")\n",
    "plt.title(\"Revenues of Movies with a budget greater than the median\");"
   ]
  },
  {
   "cell_type": "markdown",
   "metadata": {},
   "source": []
  },
  {
   "cell_type": "markdown",
   "metadata": {},
   "source": [
    "#### It is very clear from the plots above that the movies with a budget greater than the median had a higher\n",
    "#### revenue in comparison to the movies with a budget lower than the median which had no revenue at all !!"
   ]
  },
  {
   "cell_type": "code",
   "execution_count": null,
   "metadata": {},
   "outputs": [],
   "source": []
  },
  {
   "cell_type": "markdown",
   "metadata": {},
   "source": [
    "<a id='q2'></a>\n",
    "## Research Question 2\n",
    "\n",
    "## Does a higher budget correlate to a higher average vote?"
   ]
  },
  {
   "cell_type": "code",
   "execution_count": 103,
   "metadata": {},
   "outputs": [
    {
     "data": {
      "text/html": [
       "<div>\n",
       "<style scoped>\n",
       "    .dataframe tbody tr th:only-of-type {\n",
       "        vertical-align: middle;\n",
       "    }\n",
       "\n",
       "    .dataframe tbody tr th {\n",
       "        vertical-align: top;\n",
       "    }\n",
       "\n",
       "    .dataframe thead th {\n",
       "        text-align: right;\n",
       "    }\n",
       "</style>\n",
       "<table border=\"1\" class=\"dataframe\">\n",
       "  <thead>\n",
       "    <tr style=\"text-align: right;\">\n",
       "      <th></th>\n",
       "      <th>popularity</th>\n",
       "      <th>budget</th>\n",
       "      <th>revenue</th>\n",
       "      <th>original_title</th>\n",
       "      <th>cast</th>\n",
       "      <th>director</th>\n",
       "      <th>runtime</th>\n",
       "      <th>genres</th>\n",
       "      <th>production_companies</th>\n",
       "      <th>release_date</th>\n",
       "      <th>vote_count</th>\n",
       "      <th>vote_average</th>\n",
       "      <th>release_year</th>\n",
       "      <th>budget_adj</th>\n",
       "      <th>revenue_adj</th>\n",
       "    </tr>\n",
       "  </thead>\n",
       "  <tbody>\n",
       "    <tr>\n",
       "      <th>0</th>\n",
       "      <td>32.985763</td>\n",
       "      <td>150000000</td>\n",
       "      <td>1513528810</td>\n",
       "      <td>Jurassic World</td>\n",
       "      <td>Chris Pratt|Bryce Dallas Howard|Irrfan Khan|Vi...</td>\n",
       "      <td>Colin Trevorrow</td>\n",
       "      <td>124.0</td>\n",
       "      <td>Action|Adventure|Science Fiction|Thriller</td>\n",
       "      <td>Universal Studios|Amblin Entertainment|Legenda...</td>\n",
       "      <td>6/9/15</td>\n",
       "      <td>5562</td>\n",
       "      <td>6.5</td>\n",
       "      <td>2015</td>\n",
       "      <td>1.379999e+08</td>\n",
       "      <td>1.392446e+09</td>\n",
       "    </tr>\n",
       "  </tbody>\n",
       "</table>\n",
       "</div>"
      ],
      "text/plain": [
       "   popularity     budget     revenue  original_title  \\\n",
       "0   32.985763  150000000  1513528810  Jurassic World   \n",
       "\n",
       "                                                cast         director  \\\n",
       "0  Chris Pratt|Bryce Dallas Howard|Irrfan Khan|Vi...  Colin Trevorrow   \n",
       "\n",
       "   runtime                                     genres  \\\n",
       "0    124.0  Action|Adventure|Science Fiction|Thriller   \n",
       "\n",
       "                                production_companies release_date  vote_count  \\\n",
       "0  Universal Studios|Amblin Entertainment|Legenda...       6/9/15        5562   \n",
       "\n",
       "   vote_average  release_year    budget_adj   revenue_adj  \n",
       "0           6.5          2015  1.379999e+08  1.392446e+09  "
      ]
     },
     "execution_count": 103,
     "metadata": {},
     "output_type": "execute_result"
    }
   ],
   "source": [
    "df_high.head(1)"
   ]
  },
  {
   "cell_type": "markdown",
   "metadata": {},
   "source": [
    "##### Comparing the vote averages of movies with low budget and movies with high budget"
   ]
  },
  {
   "cell_type": "code",
   "execution_count": 104,
   "metadata": {},
   "outputs": [
    {
     "data": {
      "image/png": "[encoded data removed]",
      "text/plain": [
       "<Figure size 432x288 with 1 Axes>"
      ]
     },
     "metadata": {
      "needs_background": "light"
     },
     "output_type": "display_data"
    }
   ],
   "source": [
    "df_low['vote_average'].hist(grid = False);\n",
    "plt.xlabel('Average Vote')\n",
    "plt.ylabel('Number of Movies');\n",
    "plt.title('Average Vote of Movies with a budget lesser than the median');\n",
    "plt.xticks(np.arange(0,10));\n",
    "plt.yticks(np.arange(0,1600,200));"
   ]
  },
  {
   "cell_type": "code",
   "execution_count": 105,
   "metadata": {},
   "outputs": [
    {
     "data": {
      "image/png": "[encoded data removed]",
      "text/plain": [
       "<Figure size 432x288 with 1 Axes>"
      ]
     },
     "metadata": {
      "needs_background": "light"
     },
     "output_type": "display_data"
    }
   ],
   "source": [
    "df_high['vote_average'].hist();\n",
    "plt.xlabel('Average Vote')\n",
    "plt.ylabel('Number of Movies');\n",
    "plt.title('Average Vote of Movies with a budget greater than the median');"
   ]
  },
  {
   "cell_type": "markdown",
   "metadata": {},
   "source": [
    "### Clearly, a higher budget correlates to a higher average vote"
   ]
  },
  {
   "cell_type": "code",
   "execution_count": null,
   "metadata": {},
   "outputs": [],
   "source": []
  },
  {
   "cell_type": "markdown",
   "metadata": {},
   "source": [
    "<a id='q3'></a>\n",
    "## Research Question 3  \n",
    "\n",
    "## Which Genres received the highest average vote? "
   ]
  },
  {
   "cell_type": "code",
   "execution_count": 106,
   "metadata": {},
   "outputs": [
    {
     "data": {
      "text/plain": [
       "0    Action|Adventure|Science Fiction|Thriller\n",
       "1    Action|Adventure|Science Fiction|Thriller\n",
       "2           Adventure|Science Fiction|Thriller\n",
       "3     Action|Adventure|Science Fiction|Fantasy\n",
       "4                        Action|Crime|Thriller\n",
       "Name: genres, dtype: object"
      ]
     },
     "execution_count": 106,
     "metadata": {},
     "output_type": "execute_result"
    }
   ],
   "source": [
    "df_movies['genres'].head()"
   ]
  },
  {
   "cell_type": "code",
   "execution_count": 107,
   "metadata": {},
   "outputs": [],
   "source": [
    "genre_list = []\n",
    "for i in range(100):\n",
    "    a = []\n",
    "    a = df_movies['genres'][i].split('|')\n",
    "    genre_list.append(a)               \n",
    "    "
   ]
  },
  {
   "cell_type": "code",
   "execution_count": 108,
   "metadata": {},
   "outputs": [],
   "source": [
    "# creating a list with the distinct genres"
   ]
  },
  {
   "cell_type": "code",
   "execution_count": 109,
   "metadata": {},
   "outputs": [],
   "source": [
    "new_list = []\n",
    "for x in genre_list:\n",
    "    for genre in x:\n",
    "        if genre not in new_list:\n",
    "            new_list.append(genre)\n",
    "            continue\n",
    "        else:\n",
    "            continue        "
   ]
  },
  {
   "cell_type": "code",
   "execution_count": 110,
   "metadata": {},
   "outputs": [
    {
     "data": {
      "text/plain": [
       "['Action',\n",
       " 'Adventure',\n",
       " 'Science Fiction',\n",
       " 'Thriller',\n",
       " 'Fantasy',\n",
       " 'Crime',\n",
       " 'Western',\n",
       " 'Drama',\n",
       " 'Family',\n",
       " 'Animation',\n",
       " 'Comedy',\n",
       " 'Mystery',\n",
       " 'Romance',\n",
       " 'War',\n",
       " 'History',\n",
       " 'Music',\n",
       " 'Horror']"
      ]
     },
     "execution_count": 110,
     "metadata": {},
     "output_type": "execute_result"
    }
   ],
   "source": [
    "#list of all the distinct genres\n",
    "new_list"
   ]
  },
  {
   "cell_type": "code",
   "execution_count": 111,
   "metadata": {},
   "outputs": [],
   "source": [
    "# For this research question, i will only consider the part of the original datafrmae which has a budget greater than the median.\n",
    "\n",
    "#This is because the part of the dataset which has a budget lesser than the median contains genre names which have undesirable \n",
    "#floating point values."
   ]
  },
  {
   "cell_type": "code",
   "execution_count": 112,
   "metadata": {},
   "outputs": [],
   "source": [
    "df_high.reset_index(drop=True, inplace =True)"
   ]
  },
  {
   "cell_type": "code",
   "execution_count": 113,
   "metadata": {},
   "outputs": [
    {
     "data": {
      "text/html": [
       "<div>\n",
       "<style scoped>\n",
       "    .dataframe tbody tr th:only-of-type {\n",
       "        vertical-align: middle;\n",
       "    }\n",
       "\n",
       "    .dataframe tbody tr th {\n",
       "        vertical-align: top;\n",
       "    }\n",
       "\n",
       "    .dataframe thead th {\n",
       "        text-align: right;\n",
       "    }\n",
       "</style>\n",
       "<table border=\"1\" class=\"dataframe\">\n",
       "  <thead>\n",
       "    <tr style=\"text-align: right;\">\n",
       "      <th></th>\n",
       "      <th>popularity</th>\n",
       "      <th>budget</th>\n",
       "      <th>revenue</th>\n",
       "      <th>original_title</th>\n",
       "      <th>cast</th>\n",
       "      <th>director</th>\n",
       "      <th>runtime</th>\n",
       "      <th>genres</th>\n",
       "      <th>production_companies</th>\n",
       "      <th>release_date</th>\n",
       "      <th>vote_count</th>\n",
       "      <th>vote_average</th>\n",
       "      <th>release_year</th>\n",
       "      <th>budget_adj</th>\n",
       "      <th>revenue_adj</th>\n",
       "    </tr>\n",
       "  </thead>\n",
       "  <tbody>\n",
       "    <tr>\n",
       "      <th>0</th>\n",
       "      <td>32.985763</td>\n",
       "      <td>150000000</td>\n",
       "      <td>1513528810</td>\n",
       "      <td>Jurassic World</td>\n",
       "      <td>Chris Pratt|Bryce Dallas Howard|Irrfan Khan|Vi...</td>\n",
       "      <td>Colin Trevorrow</td>\n",
       "      <td>124.0</td>\n",
       "      <td>Action|Adventure|Science Fiction|Thriller</td>\n",
       "      <td>Universal Studios|Amblin Entertainment|Legenda...</td>\n",
       "      <td>6/9/15</td>\n",
       "      <td>5562</td>\n",
       "      <td>6.5</td>\n",
       "      <td>2015</td>\n",
       "      <td>1.379999e+08</td>\n",
       "      <td>1.392446e+09</td>\n",
       "    </tr>\n",
       "    <tr>\n",
       "      <th>1</th>\n",
       "      <td>28.419936</td>\n",
       "      <td>150000000</td>\n",
       "      <td>378436354</td>\n",
       "      <td>Mad Max: Fury Road</td>\n",
       "      <td>Tom Hardy|Charlize Theron|Hugh Keays-Byrne|Nic...</td>\n",
       "      <td>George Miller</td>\n",
       "      <td>120.0</td>\n",
       "      <td>Action|Adventure|Science Fiction|Thriller</td>\n",
       "      <td>Village Roadshow Pictures|Kennedy Miller Produ...</td>\n",
       "      <td>5/13/15</td>\n",
       "      <td>6185</td>\n",
       "      <td>7.1</td>\n",
       "      <td>2015</td>\n",
       "      <td>1.379999e+08</td>\n",
       "      <td>3.481613e+08</td>\n",
       "    </tr>\n",
       "    <tr>\n",
       "      <th>2</th>\n",
       "      <td>13.112507</td>\n",
       "      <td>110000000</td>\n",
       "      <td>295238201</td>\n",
       "      <td>Insurgent</td>\n",
       "      <td>Shailene Woodley|Theo James|Kate Winslet|Ansel...</td>\n",
       "      <td>Robert Schwentke</td>\n",
       "      <td>119.0</td>\n",
       "      <td>Adventure|Science Fiction|Thriller</td>\n",
       "      <td>Summit Entertainment|Mandeville Films|Red Wago...</td>\n",
       "      <td>3/18/15</td>\n",
       "      <td>2480</td>\n",
       "      <td>6.3</td>\n",
       "      <td>2015</td>\n",
       "      <td>1.012000e+08</td>\n",
       "      <td>2.716190e+08</td>\n",
       "    </tr>\n",
       "    <tr>\n",
       "      <th>3</th>\n",
       "      <td>11.173104</td>\n",
       "      <td>200000000</td>\n",
       "      <td>2068178225</td>\n",
       "      <td>Star Wars: The Force Awakens</td>\n",
       "      <td>Harrison Ford|Mark Hamill|Carrie Fisher|Adam D...</td>\n",
       "      <td>J.J. Abrams</td>\n",
       "      <td>136.0</td>\n",
       "      <td>Action|Adventure|Science Fiction|Fantasy</td>\n",
       "      <td>Lucasfilm|Truenorth Productions|Bad Robot</td>\n",
       "      <td>12/15/15</td>\n",
       "      <td>5292</td>\n",
       "      <td>7.5</td>\n",
       "      <td>2015</td>\n",
       "      <td>1.839999e+08</td>\n",
       "      <td>1.902723e+09</td>\n",
       "    </tr>\n",
       "    <tr>\n",
       "      <th>4</th>\n",
       "      <td>9.335014</td>\n",
       "      <td>190000000</td>\n",
       "      <td>1506249360</td>\n",
       "      <td>Furious 7</td>\n",
       "      <td>Vin Diesel|Paul Walker|Jason Statham|Michelle ...</td>\n",
       "      <td>James Wan</td>\n",
       "      <td>137.0</td>\n",
       "      <td>Action|Crime|Thriller</td>\n",
       "      <td>Universal Pictures|Original Film|Media Rights ...</td>\n",
       "      <td>4/1/15</td>\n",
       "      <td>2947</td>\n",
       "      <td>7.3</td>\n",
       "      <td>2015</td>\n",
       "      <td>1.747999e+08</td>\n",
       "      <td>1.385749e+09</td>\n",
       "    </tr>\n",
       "    <tr>\n",
       "      <th>5</th>\n",
       "      <td>9.110700</td>\n",
       "      <td>135000000</td>\n",
       "      <td>532950503</td>\n",
       "      <td>The Revenant</td>\n",
       "      <td>Leonardo DiCaprio|Tom Hardy|Will Poulter|Domhn...</td>\n",
       "      <td>Alejandro GonzÃ¡lez IÃ±Ã¡rritu</td>\n",
       "      <td>156.0</td>\n",
       "      <td>Western|Drama|Adventure|Thriller</td>\n",
       "      <td>Regency Enterprises|Appian Way|CatchPlay|Anony...</td>\n",
       "      <td>12/25/15</td>\n",
       "      <td>3929</td>\n",
       "      <td>7.2</td>\n",
       "      <td>2015</td>\n",
       "      <td>1.241999e+08</td>\n",
       "      <td>4.903142e+08</td>\n",
       "    </tr>\n",
       "    <tr>\n",
       "      <th>6</th>\n",
       "      <td>8.654359</td>\n",
       "      <td>155000000</td>\n",
       "      <td>440603537</td>\n",
       "      <td>Terminator Genisys</td>\n",
       "      <td>Arnold Schwarzenegger|Jason Clarke|Emilia Clar...</td>\n",
       "      <td>Alan Taylor</td>\n",
       "      <td>125.0</td>\n",
       "      <td>Science Fiction|Action|Thriller|Adventure</td>\n",
       "      <td>Paramount Pictures|Skydance Productions</td>\n",
       "      <td>6/23/15</td>\n",
       "      <td>2598</td>\n",
       "      <td>5.8</td>\n",
       "      <td>2015</td>\n",
       "      <td>1.425999e+08</td>\n",
       "      <td>4.053551e+08</td>\n",
       "    </tr>\n",
       "    <tr>\n",
       "      <th>7</th>\n",
       "      <td>7.667400</td>\n",
       "      <td>108000000</td>\n",
       "      <td>595380321</td>\n",
       "      <td>The Martian</td>\n",
       "      <td>Matt Damon|Jessica Chastain|Kristen Wiig|Jeff ...</td>\n",
       "      <td>Ridley Scott</td>\n",
       "      <td>141.0</td>\n",
       "      <td>Drama|Adventure|Science Fiction</td>\n",
       "      <td>Twentieth Century Fox Film Corporation|Scott F...</td>\n",
       "      <td>9/30/15</td>\n",
       "      <td>4572</td>\n",
       "      <td>7.6</td>\n",
       "      <td>2015</td>\n",
       "      <td>9.935996e+07</td>\n",
       "      <td>5.477497e+08</td>\n",
       "    </tr>\n",
       "    <tr>\n",
       "      <th>8</th>\n",
       "      <td>7.404165</td>\n",
       "      <td>74000000</td>\n",
       "      <td>1156730962</td>\n",
       "      <td>Minions</td>\n",
       "      <td>Sandra Bullock|Jon Hamm|Michael Keaton|Allison...</td>\n",
       "      <td>Kyle Balda|Pierre Coffin</td>\n",
       "      <td>91.0</td>\n",
       "      <td>Family|Animation|Adventure|Comedy</td>\n",
       "      <td>Universal Pictures|Illumination Entertainment</td>\n",
       "      <td>6/17/15</td>\n",
       "      <td>2893</td>\n",
       "      <td>6.5</td>\n",
       "      <td>2015</td>\n",
       "      <td>6.807997e+07</td>\n",
       "      <td>1.064192e+09</td>\n",
       "    </tr>\n",
       "    <tr>\n",
       "      <th>9</th>\n",
       "      <td>6.326804</td>\n",
       "      <td>175000000</td>\n",
       "      <td>853708609</td>\n",
       "      <td>Inside Out</td>\n",
       "      <td>Amy Poehler|Phyllis Smith|Richard Kind|Bill Ha...</td>\n",
       "      <td>Pete Docter</td>\n",
       "      <td>94.0</td>\n",
       "      <td>Comedy|Animation|Family</td>\n",
       "      <td>Walt Disney Pictures|Pixar Animation Studios|W...</td>\n",
       "      <td>6/9/15</td>\n",
       "      <td>3935</td>\n",
       "      <td>8.0</td>\n",
       "      <td>2015</td>\n",
       "      <td>1.609999e+08</td>\n",
       "      <td>7.854116e+08</td>\n",
       "    </tr>\n",
       "    <tr>\n",
       "      <th>10</th>\n",
       "      <td>6.200282</td>\n",
       "      <td>245000000</td>\n",
       "      <td>880674609</td>\n",
       "      <td>Spectre</td>\n",
       "      <td>Daniel Craig|Christoph Waltz|LÃ©a Seydoux|Ralp...</td>\n",
       "      <td>Sam Mendes</td>\n",
       "      <td>148.0</td>\n",
       "      <td>Action|Adventure|Crime</td>\n",
       "      <td>Columbia Pictures|Danjaq|B24</td>\n",
       "      <td>10/26/15</td>\n",
       "      <td>3254</td>\n",
       "      <td>6.2</td>\n",
       "      <td>2015</td>\n",
       "      <td>2.253999e+08</td>\n",
       "      <td>8.102203e+08</td>\n",
       "    </tr>\n",
       "    <tr>\n",
       "      <th>11</th>\n",
       "      <td>6.189369</td>\n",
       "      <td>176000003</td>\n",
       "      <td>183987723</td>\n",
       "      <td>Jupiter Ascending</td>\n",
       "      <td>Mila Kunis|Channing Tatum|Sean Bean|Eddie Redm...</td>\n",
       "      <td>Lana Wachowski|Lilly Wachowski</td>\n",
       "      <td>124.0</td>\n",
       "      <td>Science Fiction|Fantasy|Action|Adventure</td>\n",
       "      <td>Village Roadshow Pictures|Dune Entertainment|A...</td>\n",
       "      <td>2/4/15</td>\n",
       "      <td>1937</td>\n",
       "      <td>5.2</td>\n",
       "      <td>2015</td>\n",
       "      <td>1.619199e+08</td>\n",
       "      <td>1.692686e+08</td>\n",
       "    </tr>\n",
       "    <tr>\n",
       "      <th>12</th>\n",
       "      <td>6.118847</td>\n",
       "      <td>15000000</td>\n",
       "      <td>36869414</td>\n",
       "      <td>Ex Machina</td>\n",
       "      <td>Domhnall Gleeson|Alicia Vikander|Oscar Isaac|S...</td>\n",
       "      <td>Alex Garland</td>\n",
       "      <td>108.0</td>\n",
       "      <td>Drama|Science Fiction</td>\n",
       "      <td>DNA Films|Universal Pictures International (UP...</td>\n",
       "      <td>1/21/15</td>\n",
       "      <td>2854</td>\n",
       "      <td>7.6</td>\n",
       "      <td>2015</td>\n",
       "      <td>1.379999e+07</td>\n",
       "      <td>3.391985e+07</td>\n",
       "    </tr>\n",
       "    <tr>\n",
       "      <th>13</th>\n",
       "      <td>5.984995</td>\n",
       "      <td>88000000</td>\n",
       "      <td>243637091</td>\n",
       "      <td>Pixels</td>\n",
       "      <td>Adam Sandler|Michelle Monaghan|Peter Dinklage|...</td>\n",
       "      <td>Chris Columbus</td>\n",
       "      <td>105.0</td>\n",
       "      <td>Action|Comedy|Science Fiction</td>\n",
       "      <td>Columbia Pictures|Happy Madison Productions</td>\n",
       "      <td>7/16/15</td>\n",
       "      <td>1575</td>\n",
       "      <td>5.8</td>\n",
       "      <td>2015</td>\n",
       "      <td>8.095996e+07</td>\n",
       "      <td>2.241460e+08</td>\n",
       "    </tr>\n",
       "    <tr>\n",
       "      <th>14</th>\n",
       "      <td>5.944927</td>\n",
       "      <td>280000000</td>\n",
       "      <td>1405035767</td>\n",
       "      <td>Avengers: Age of Ultron</td>\n",
       "      <td>Robert Downey Jr.|Chris Hemsworth|Mark Ruffalo...</td>\n",
       "      <td>Joss Whedon</td>\n",
       "      <td>141.0</td>\n",
       "      <td>Action|Adventure|Science Fiction</td>\n",
       "      <td>Marvel Studios|Prime Focus|Revolution Sun Studios</td>\n",
       "      <td>4/22/15</td>\n",
       "      <td>4304</td>\n",
       "      <td>7.4</td>\n",
       "      <td>2015</td>\n",
       "      <td>2.575999e+08</td>\n",
       "      <td>1.292632e+09</td>\n",
       "    </tr>\n",
       "    <tr>\n",
       "      <th>15</th>\n",
       "      <td>5.898400</td>\n",
       "      <td>44000000</td>\n",
       "      <td>155760117</td>\n",
       "      <td>The Hateful Eight</td>\n",
       "      <td>Samuel L. Jackson|Kurt Russell|Jennifer Jason ...</td>\n",
       "      <td>Quentin Tarantino</td>\n",
       "      <td>167.0</td>\n",
       "      <td>Crime|Drama|Mystery|Western</td>\n",
       "      <td>Double Feature Films|The Weinstein Company|Fil...</td>\n",
       "      <td>12/25/15</td>\n",
       "      <td>2389</td>\n",
       "      <td>7.4</td>\n",
       "      <td>2015</td>\n",
       "      <td>4.047998e+07</td>\n",
       "      <td>1.432992e+08</td>\n",
       "    </tr>\n",
       "    <tr>\n",
       "      <th>16</th>\n",
       "      <td>5.749758</td>\n",
       "      <td>48000000</td>\n",
       "      <td>325771424</td>\n",
       "      <td>Taken 3</td>\n",
       "      <td>Liam Neeson|Forest Whitaker|Maggie Grace|Famke...</td>\n",
       "      <td>Olivier Megaton</td>\n",
       "      <td>109.0</td>\n",
       "      <td>Crime|Action|Thriller</td>\n",
       "      <td>Twentieth Century Fox Film Corporation|M6 Film...</td>\n",
       "      <td>1/1/15</td>\n",
       "      <td>1578</td>\n",
       "      <td>6.1</td>\n",
       "      <td>2015</td>\n",
       "      <td>4.415998e+07</td>\n",
       "      <td>2.997096e+08</td>\n",
       "    </tr>\n",
       "    <tr>\n",
       "      <th>17</th>\n",
       "      <td>5.573184</td>\n",
       "      <td>130000000</td>\n",
       "      <td>518602163</td>\n",
       "      <td>Ant-Man</td>\n",
       "      <td>Paul Rudd|Michael Douglas|Evangeline Lilly|Cor...</td>\n",
       "      <td>Peyton Reed</td>\n",
       "      <td>115.0</td>\n",
       "      <td>Science Fiction|Action|Adventure</td>\n",
       "      <td>Marvel Studios</td>\n",
       "      <td>7/14/15</td>\n",
       "      <td>3779</td>\n",
       "      <td>7.0</td>\n",
       "      <td>2015</td>\n",
       "      <td>1.195999e+08</td>\n",
       "      <td>4.771138e+08</td>\n",
       "    </tr>\n",
       "    <tr>\n",
       "      <th>18</th>\n",
       "      <td>5.556818</td>\n",
       "      <td>95000000</td>\n",
       "      <td>542351353</td>\n",
       "      <td>Cinderella</td>\n",
       "      <td>Lily James|Cate Blanchett|Richard Madden|Helen...</td>\n",
       "      <td>Kenneth Branagh</td>\n",
       "      <td>112.0</td>\n",
       "      <td>Romance|Fantasy|Family|Drama</td>\n",
       "      <td>Walt Disney Pictures|Genre Films|Beagle Pug Fi...</td>\n",
       "      <td>3/12/15</td>\n",
       "      <td>1495</td>\n",
       "      <td>6.8</td>\n",
       "      <td>2015</td>\n",
       "      <td>8.739996e+07</td>\n",
       "      <td>4.989630e+08</td>\n",
       "    </tr>\n",
       "    <tr>\n",
       "      <th>19</th>\n",
       "      <td>5.476958</td>\n",
       "      <td>160000000</td>\n",
       "      <td>650523427</td>\n",
       "      <td>The Hunger Games: Mockingjay - Part 2</td>\n",
       "      <td>Jennifer Lawrence|Josh Hutcherson|Liam Hemswor...</td>\n",
       "      <td>Francis Lawrence</td>\n",
       "      <td>136.0</td>\n",
       "      <td>War|Adventure|Science Fiction</td>\n",
       "      <td>Studio Babelsberg|StudioCanal|Lionsgate|Walt D...</td>\n",
       "      <td>11/18/15</td>\n",
       "      <td>2380</td>\n",
       "      <td>6.5</td>\n",
       "      <td>2015</td>\n",
       "      <td>1.471999e+08</td>\n",
       "      <td>5.984813e+08</td>\n",
       "    </tr>\n",
       "    <tr>\n",
       "      <th>20</th>\n",
       "      <td>5.462138</td>\n",
       "      <td>190000000</td>\n",
       "      <td>209035668</td>\n",
       "      <td>Tomorrowland</td>\n",
       "      <td>Britt Robertson|George Clooney|Raffey Cassidy|...</td>\n",
       "      <td>Brad Bird</td>\n",
       "      <td>130.0</td>\n",
       "      <td>Action|Family|Science Fiction|Adventure|Mystery</td>\n",
       "      <td>Walt Disney Pictures|Babieka|A113</td>\n",
       "      <td>5/19/15</td>\n",
       "      <td>1899</td>\n",
       "      <td>6.2</td>\n",
       "      <td>2015</td>\n",
       "      <td>1.747999e+08</td>\n",
       "      <td>1.923127e+08</td>\n",
       "    </tr>\n",
       "    <tr>\n",
       "      <th>21</th>\n",
       "      <td>5.337064</td>\n",
       "      <td>30000000</td>\n",
       "      <td>91709827</td>\n",
       "      <td>Southpaw</td>\n",
       "      <td>Jake Gyllenhaal|Rachel McAdams|Forest Whitaker...</td>\n",
       "      <td>Antoine Fuqua</td>\n",
       "      <td>123.0</td>\n",
       "      <td>Action|Drama</td>\n",
       "      <td>Escape Artists|Riche-Ludwig Productions</td>\n",
       "      <td>6/15/15</td>\n",
       "      <td>1386</td>\n",
       "      <td>7.3</td>\n",
       "      <td>2015</td>\n",
       "      <td>2.759999e+07</td>\n",
       "      <td>8.437300e+07</td>\n",
       "    </tr>\n",
       "    <tr>\n",
       "      <th>22</th>\n",
       "      <td>4.907832</td>\n",
       "      <td>110000000</td>\n",
       "      <td>470490832</td>\n",
       "      <td>San Andreas</td>\n",
       "      <td>Dwayne Johnson|Alexandra Daddario|Carla Gugino...</td>\n",
       "      <td>Brad Peyton</td>\n",
       "      <td>114.0</td>\n",
       "      <td>Action|Drama|Thriller</td>\n",
       "      <td>New Line Cinema|Village Roadshow Pictures|Warn...</td>\n",
       "      <td>5/27/15</td>\n",
       "      <td>2060</td>\n",
       "      <td>6.1</td>\n",
       "      <td>2015</td>\n",
       "      <td>1.012000e+08</td>\n",
       "      <td>4.328514e+08</td>\n",
       "    </tr>\n",
       "    <tr>\n",
       "      <th>23</th>\n",
       "      <td>4.710402</td>\n",
       "      <td>40000000</td>\n",
       "      <td>569651467</td>\n",
       "      <td>Fifty Shades of Grey</td>\n",
       "      <td>Dakota Johnson|Jamie Dornan|Jennifer Ehle|Eloi...</td>\n",
       "      <td>Sam Taylor-Johnson</td>\n",
       "      <td>125.0</td>\n",
       "      <td>Drama|Romance</td>\n",
       "      <td>Focus Features|Trigger Street Productions|Mich...</td>\n",
       "      <td>2/11/15</td>\n",
       "      <td>1865</td>\n",
       "      <td>5.3</td>\n",
       "      <td>2015</td>\n",
       "      <td>3.679998e+07</td>\n",
       "      <td>5.240791e+08</td>\n",
       "    </tr>\n",
       "    <tr>\n",
       "      <th>24</th>\n",
       "      <td>4.648046</td>\n",
       "      <td>28000000</td>\n",
       "      <td>133346506</td>\n",
       "      <td>The Big Short</td>\n",
       "      <td>Christian Bale|Steve Carell|Ryan Gosling|Brad ...</td>\n",
       "      <td>Adam McKay</td>\n",
       "      <td>130.0</td>\n",
       "      <td>Comedy|Drama</td>\n",
       "      <td>Paramount Pictures|Plan B Entertainment|Regenc...</td>\n",
       "      <td>12/11/15</td>\n",
       "      <td>1545</td>\n",
       "      <td>7.3</td>\n",
       "      <td>2015</td>\n",
       "      <td>2.575999e+07</td>\n",
       "      <td>1.226787e+08</td>\n",
       "    </tr>\n",
       "    <tr>\n",
       "      <th>25</th>\n",
       "      <td>4.566713</td>\n",
       "      <td>150000000</td>\n",
       "      <td>682330139</td>\n",
       "      <td>Mission: Impossible - Rogue Nation</td>\n",
       "      <td>Tom Cruise|Jeremy Renner|Simon Pegg|Rebecca Fe...</td>\n",
       "      <td>Christopher McQuarrie</td>\n",
       "      <td>131.0</td>\n",
       "      <td>Action</td>\n",
       "      <td>Paramount Pictures|Skydance Productions|China ...</td>\n",
       "      <td>7/23/15</td>\n",
       "      <td>2349</td>\n",
       "      <td>7.1</td>\n",
       "      <td>2015</td>\n",
       "      <td>1.379999e+08</td>\n",
       "      <td>6.277435e+08</td>\n",
       "    </tr>\n",
       "    <tr>\n",
       "      <th>26</th>\n",
       "      <td>4.564549</td>\n",
       "      <td>68000000</td>\n",
       "      <td>215863606</td>\n",
       "      <td>Ted 2</td>\n",
       "      <td>Mark Wahlberg|Seth MacFarlane|Amanda Seyfried|...</td>\n",
       "      <td>Seth MacFarlane</td>\n",
       "      <td>115.0</td>\n",
       "      <td>Comedy</td>\n",
       "      <td>Universal Pictures|Media Rights Capital|Fuzzy ...</td>\n",
       "      <td>6/25/15</td>\n",
       "      <td>1666</td>\n",
       "      <td>6.3</td>\n",
       "      <td>2015</td>\n",
       "      <td>6.255997e+07</td>\n",
       "      <td>1.985944e+08</td>\n",
       "    </tr>\n",
       "    <tr>\n",
       "      <th>27</th>\n",
       "      <td>4.503789</td>\n",
       "      <td>81000000</td>\n",
       "      <td>403802136</td>\n",
       "      <td>Kingsman: The Secret Service</td>\n",
       "      <td>Taron Egerton|Colin Firth|Samuel L. Jackson|Mi...</td>\n",
       "      <td>Matthew Vaughn</td>\n",
       "      <td>130.0</td>\n",
       "      <td>Crime|Comedy|Action|Adventure</td>\n",
       "      <td>Twentieth Century Fox Film Corporation|Marv Fi...</td>\n",
       "      <td>1/24/15</td>\n",
       "      <td>3833</td>\n",
       "      <td>7.6</td>\n",
       "      <td>2015</td>\n",
       "      <td>7.451997e+07</td>\n",
       "      <td>3.714978e+08</td>\n",
       "    </tr>\n",
       "    <tr>\n",
       "      <th>28</th>\n",
       "      <td>4.062293</td>\n",
       "      <td>20000000</td>\n",
       "      <td>88346473</td>\n",
       "      <td>Spotlight</td>\n",
       "      <td>Mark Ruffalo|Michael Keaton|Rachel McAdams|Lie...</td>\n",
       "      <td>Tom McCarthy</td>\n",
       "      <td>128.0</td>\n",
       "      <td>Drama|Thriller|History</td>\n",
       "      <td>Participant Media|Open Road Films|Anonymous Co...</td>\n",
       "      <td>11/6/15</td>\n",
       "      <td>1559</td>\n",
       "      <td>7.8</td>\n",
       "      <td>2015</td>\n",
       "      <td>1.839999e+07</td>\n",
       "      <td>8.127872e+07</td>\n",
       "    </tr>\n",
       "    <tr>\n",
       "      <th>29</th>\n",
       "      <td>3.968891</td>\n",
       "      <td>61000000</td>\n",
       "      <td>311256926</td>\n",
       "      <td>Maze Runner: The Scorch Trials</td>\n",
       "      <td>Dylan O'Brien|Kaya Scodelario|Thomas Brodie-Sa...</td>\n",
       "      <td>Wes Ball</td>\n",
       "      <td>132.0</td>\n",
       "      <td>Action|Science Fiction|Thriller</td>\n",
       "      <td>Gotham Group|Temple Hill Entertainment|TSG Ent...</td>\n",
       "      <td>9/9/15</td>\n",
       "      <td>1849</td>\n",
       "      <td>6.4</td>\n",
       "      <td>2015</td>\n",
       "      <td>5.611998e+07</td>\n",
       "      <td>2.863562e+08</td>\n",
       "    </tr>\n",
       "    <tr>\n",
       "      <th>...</th>\n",
       "      <td>...</td>\n",
       "      <td>...</td>\n",
       "      <td>...</td>\n",
       "      <td>...</td>\n",
       "      <td>...</td>\n",
       "      <td>...</td>\n",
       "      <td>...</td>\n",
       "      <td>...</td>\n",
       "      <td>...</td>\n",
       "      <td>...</td>\n",
       "      <td>...</td>\n",
       "      <td>...</td>\n",
       "      <td>...</td>\n",
       "      <td>...</td>\n",
       "      <td>...</td>\n",
       "    </tr>\n",
       "    <tr>\n",
       "      <th>5139</th>\n",
       "      <td>0.480176</td>\n",
       "      <td>5000000</td>\n",
       "      <td>0</td>\n",
       "      <td>Capricorn One</td>\n",
       "      <td>Elliott Gould|James Brolin|Brenda Vaccaro|Sam ...</td>\n",
       "      <td>Peter Hyams</td>\n",
       "      <td>123.0</td>\n",
       "      <td>Drama|Action|Thriller|Science Fiction</td>\n",
       "      <td>Associated General Films|Incorporated Televisi...</td>\n",
       "      <td>1/11/78</td>\n",
       "      <td>61</td>\n",
       "      <td>5.9</td>\n",
       "      <td>1978</td>\n",
       "      <td>1.671350e+07</td>\n",
       "      <td>0.000000e+00</td>\n",
       "    </tr>\n",
       "    <tr>\n",
       "      <th>5140</th>\n",
       "      <td>0.468871</td>\n",
       "      <td>7920000</td>\n",
       "      <td>14560084</td>\n",
       "      <td>Death on the Nile</td>\n",
       "      <td>Peter Ustinov|Mia Farrow|Simon MacCorkindale|L...</td>\n",
       "      <td>John Guillermin</td>\n",
       "      <td>140.0</td>\n",
       "      <td>Mystery</td>\n",
       "      <td>EMI Films Ltd.|Mersham Productions</td>\n",
       "      <td>10/6/78</td>\n",
       "      <td>51</td>\n",
       "      <td>6.2</td>\n",
       "      <td>1978</td>\n",
       "      <td>2.647419e+07</td>\n",
       "      <td>4.867000e+07</td>\n",
       "    </tr>\n",
       "    <tr>\n",
       "      <th>5141</th>\n",
       "      <td>0.439210</td>\n",
       "      <td>11</td>\n",
       "      <td>11</td>\n",
       "      <td>F.I.S.T.</td>\n",
       "      <td>Sylvester Stallone|Rod Steiger|Peter Boyle|Mel...</td>\n",
       "      <td>Norman Jewison</td>\n",
       "      <td>145.0</td>\n",
       "      <td>Drama|Action</td>\n",
       "      <td>chateau productions</td>\n",
       "      <td>4/26/78</td>\n",
       "      <td>13</td>\n",
       "      <td>6.7</td>\n",
       "      <td>1978</td>\n",
       "      <td>3.676971e+01</td>\n",
       "      <td>3.676971e+01</td>\n",
       "    </tr>\n",
       "    <tr>\n",
       "      <th>5142</th>\n",
       "      <td>0.435312</td>\n",
       "      <td>5000000</td>\n",
       "      <td>7230000</td>\n",
       "      <td>Force 10 from Navarone</td>\n",
       "      <td>Harrison Ford|Robert Shaw|Barbara Bach|Edward ...</td>\n",
       "      <td>Guy Hamilton</td>\n",
       "      <td>118.0</td>\n",
       "      <td>Action|Adventure|War|Thriller</td>\n",
       "      <td>Columbia Pictures Corporation</td>\n",
       "      <td>11/1/78</td>\n",
       "      <td>39</td>\n",
       "      <td>6.6</td>\n",
       "      <td>1978</td>\n",
       "      <td>1.671350e+07</td>\n",
       "      <td>2.416773e+07</td>\n",
       "    </tr>\n",
       "    <tr>\n",
       "      <th>5143</th>\n",
       "      <td>0.411826</td>\n",
       "      <td>12000000</td>\n",
       "      <td>22765081</td>\n",
       "      <td>Convoy</td>\n",
       "      <td>Kris Kristofferson|Ali MacGraw|Ernest Borgnine...</td>\n",
       "      <td>Sam Peckinpah</td>\n",
       "      <td>110.0</td>\n",
       "      <td>Action|Comedy|Drama</td>\n",
       "      <td>EMI Films Ltd.</td>\n",
       "      <td>6/27/78</td>\n",
       "      <td>31</td>\n",
       "      <td>6.2</td>\n",
       "      <td>1978</td>\n",
       "      <td>4.011241e+07</td>\n",
       "      <td>7.609685e+07</td>\n",
       "    </tr>\n",
       "    <tr>\n",
       "      <th>5144</th>\n",
       "      <td>0.409377</td>\n",
       "      <td>3500000</td>\n",
       "      <td>24046533</td>\n",
       "      <td>Invasion of the Body Snatchers</td>\n",
       "      <td>Donald Sutherland|Brooke Adams|Leonard Nimoy|V...</td>\n",
       "      <td>Philip Kaufman</td>\n",
       "      <td>115.0</td>\n",
       "      <td>Horror|Thriller|Science Fiction|Mystery</td>\n",
       "      <td>United Artists|Solofilm</td>\n",
       "      <td>12/19/78</td>\n",
       "      <td>87</td>\n",
       "      <td>6.5</td>\n",
       "      <td>1978</td>\n",
       "      <td>1.169945e+07</td>\n",
       "      <td>8.038036e+07</td>\n",
       "    </tr>\n",
       "    <tr>\n",
       "      <th>5145</th>\n",
       "      <td>0.451009</td>\n",
       "      <td>660000</td>\n",
       "      <td>0</td>\n",
       "      <td>Piranha</td>\n",
       "      <td>Heather Menzies|Kevin McCarthy|Dick Miller|Kee...</td>\n",
       "      <td>Joe Dante</td>\n",
       "      <td>94.0</td>\n",
       "      <td>Horror</td>\n",
       "      <td>New World Pictures</td>\n",
       "      <td>8/3/78</td>\n",
       "      <td>44</td>\n",
       "      <td>5.6</td>\n",
       "      <td>1978</td>\n",
       "      <td>2.206182e+06</td>\n",
       "      <td>0.000000e+00</td>\n",
       "    </tr>\n",
       "    <tr>\n",
       "      <th>5146</th>\n",
       "      <td>0.335197</td>\n",
       "      <td>10000000</td>\n",
       "      <td>0</td>\n",
       "      <td>The Wild Geese</td>\n",
       "      <td>Richard Burton|Roger Moore|Richard Harris|Hard...</td>\n",
       "      <td>Andrew V. McLaglen</td>\n",
       "      <td>134.0</td>\n",
       "      <td>Action|Thriller|War</td>\n",
       "      <td>Richmond Productions</td>\n",
       "      <td>7/5/78</td>\n",
       "      <td>31</td>\n",
       "      <td>5.4</td>\n",
       "      <td>1978</td>\n",
       "      <td>3.342701e+07</td>\n",
       "      <td>0.000000e+00</td>\n",
       "    </tr>\n",
       "    <tr>\n",
       "      <th>5147</th>\n",
       "      <td>0.324081</td>\n",
       "      <td>650000</td>\n",
       "      <td>0</td>\n",
       "      <td>Day of the Woman</td>\n",
       "      <td>Camille Keaton|Eron Tabor|Richard Pace|Anthony...</td>\n",
       "      <td>Meir Zarchi</td>\n",
       "      <td>101.0</td>\n",
       "      <td>Horror</td>\n",
       "      <td>Cinemagic Pictures</td>\n",
       "      <td>11/2/78</td>\n",
       "      <td>46</td>\n",
       "      <td>5.7</td>\n",
       "      <td>1978</td>\n",
       "      <td>2.172755e+06</td>\n",
       "      <td>0.000000e+00</td>\n",
       "    </tr>\n",
       "    <tr>\n",
       "      <th>5148</th>\n",
       "      <td>0.277769</td>\n",
       "      <td>24000000</td>\n",
       "      <td>21049053</td>\n",
       "      <td>The Wiz</td>\n",
       "      <td>Diana Ross|Michael Jackson|Nipsey Russell|Ted ...</td>\n",
       "      <td>Sidney Lumet</td>\n",
       "      <td>134.0</td>\n",
       "      <td>Adventure|Family|Fantasy|Music|Science Fiction</td>\n",
       "      <td>Universal Pictures|Motown Productions</td>\n",
       "      <td>10/24/78</td>\n",
       "      <td>30</td>\n",
       "      <td>6.1</td>\n",
       "      <td>1978</td>\n",
       "      <td>8.022482e+07</td>\n",
       "      <td>7.036068e+07</td>\n",
       "    </tr>\n",
       "    <tr>\n",
       "      <th>5149</th>\n",
       "      <td>0.241340</td>\n",
       "      <td>2700000</td>\n",
       "      <td>0</td>\n",
       "      <td>I Wanna Hold Your Hand</td>\n",
       "      <td>Nancy Allen|Bobby Di Cicco|Wendie Jo Sperber|T...</td>\n",
       "      <td>Robert Zemeckis</td>\n",
       "      <td>104.0</td>\n",
       "      <td>Comedy|Family</td>\n",
       "      <td>Universal Pictures</td>\n",
       "      <td>4/20/78</td>\n",
       "      <td>11</td>\n",
       "      <td>7.0</td>\n",
       "      <td>1978</td>\n",
       "      <td>9.025292e+06</td>\n",
       "      <td>0.000000e+00</td>\n",
       "    </tr>\n",
       "    <tr>\n",
       "      <th>5150</th>\n",
       "      <td>0.236193</td>\n",
       "      <td>6800000</td>\n",
       "      <td>26518355</td>\n",
       "      <td>Damien: Omen II</td>\n",
       "      <td>William Holden|Lee Grant|Jonathan Scott-Taylor...</td>\n",
       "      <td>Don Taylor|Mike Hodges</td>\n",
       "      <td>107.0</td>\n",
       "      <td>Action|Drama|Horror|Thriller</td>\n",
       "      <td>Twentieth Century Fox Film Corporation|Mace Ne...</td>\n",
       "      <td>6/9/78</td>\n",
       "      <td>71</td>\n",
       "      <td>6.1</td>\n",
       "      <td>1978</td>\n",
       "      <td>2.273036e+07</td>\n",
       "      <td>8.864292e+07</td>\n",
       "    </tr>\n",
       "    <tr>\n",
       "      <th>5151</th>\n",
       "      <td>0.226002</td>\n",
       "      <td>1000000</td>\n",
       "      <td>3713768</td>\n",
       "      <td>Watership Down</td>\n",
       "      <td>John Hurt|Richard Briers|Michael Graham Cox|Jo...</td>\n",
       "      <td>Martin Rosen</td>\n",
       "      <td>88.0</td>\n",
       "      <td>Adventure|Animation|Drama</td>\n",
       "      <td>Nepenthe Productions|Watership Productions</td>\n",
       "      <td>10/14/78</td>\n",
       "      <td>67</td>\n",
       "      <td>6.8</td>\n",
       "      <td>1978</td>\n",
       "      <td>3.342701e+06</td>\n",
       "      <td>1.241401e+07</td>\n",
       "    </tr>\n",
       "    <tr>\n",
       "      <th>5152</th>\n",
       "      <td>0.214124</td>\n",
       "      <td>3000000</td>\n",
       "      <td>0</td>\n",
       "      <td>Battlestar Galactica</td>\n",
       "      <td>Richard Hatch|Dirk Benedict|Lorne Greene|Herb ...</td>\n",
       "      <td>Richard A. Colla|Alan J. Levi</td>\n",
       "      <td>125.0</td>\n",
       "      <td>Science Fiction|Adventure</td>\n",
       "      <td>Universal TV|Glen A. Larson Productions</td>\n",
       "      <td>9/16/78</td>\n",
       "      <td>22</td>\n",
       "      <td>5.8</td>\n",
       "      <td>1978</td>\n",
       "      <td>1.002810e+07</td>\n",
       "      <td>0.000000e+00</td>\n",
       "    </tr>\n",
       "    <tr>\n",
       "      <th>5153</th>\n",
       "      <td>0.177276</td>\n",
       "      <td>11000000</td>\n",
       "      <td>0</td>\n",
       "      <td>Big Wednesday</td>\n",
       "      <td>Jan-Michael Vincent|William Katt|Gary Busey|Pa...</td>\n",
       "      <td>John Milius</td>\n",
       "      <td>120.0</td>\n",
       "      <td>Drama</td>\n",
       "      <td>Warner Bros.</td>\n",
       "      <td>5/2/78</td>\n",
       "      <td>18</td>\n",
       "      <td>5.9</td>\n",
       "      <td>1978</td>\n",
       "      <td>3.676971e+07</td>\n",
       "      <td>0.000000e+00</td>\n",
       "    </tr>\n",
       "    <tr>\n",
       "      <th>5154</th>\n",
       "      <td>0.227338</td>\n",
       "      <td>6727000</td>\n",
       "      <td>0</td>\n",
       "      <td>Fedora</td>\n",
       "      <td>William Holden|Marthe Keller|Hildegard Knef|Jo...</td>\n",
       "      <td>Billy Wilder</td>\n",
       "      <td>114.0</td>\n",
       "      <td>Drama|Romance</td>\n",
       "      <td>SociÃ©tÃ© FranÃ§aise de Production (SFP)</td>\n",
       "      <td>5/30/78</td>\n",
       "      <td>10</td>\n",
       "      <td>4.9</td>\n",
       "      <td>1978</td>\n",
       "      <td>2.248635e+07</td>\n",
       "      <td>0.000000e+00</td>\n",
       "    </tr>\n",
       "    <tr>\n",
       "      <th>5155</th>\n",
       "      <td>0.409587</td>\n",
       "      <td>90000</td>\n",
       "      <td>0</td>\n",
       "      <td>Attack of the Killer Tomatoes!</td>\n",
       "      <td>David Miller|George Wilson|Sharon Taylor|J. St...</td>\n",
       "      <td>John De Bello</td>\n",
       "      <td>87.0</td>\n",
       "      <td>Comedy|Horror|Science Fiction</td>\n",
       "      <td>Four Square Productions</td>\n",
       "      <td>10/1/78</td>\n",
       "      <td>38</td>\n",
       "      <td>4.3</td>\n",
       "      <td>1978</td>\n",
       "      <td>3.008431e+05</td>\n",
       "      <td>0.000000e+00</td>\n",
       "    </tr>\n",
       "    <tr>\n",
       "      <th>5156</th>\n",
       "      <td>0.065504</td>\n",
       "      <td>3000000</td>\n",
       "      <td>0</td>\n",
       "      <td>Coming Home</td>\n",
       "      <td>Jane Fonda|Jon Voight|Bruce Dern|Penelope Milf...</td>\n",
       "      <td>Hal Ashby</td>\n",
       "      <td>127.0</td>\n",
       "      <td>Drama|Romance|War</td>\n",
       "      <td>United Artists|Jerome Hellman Productions|Jayn...</td>\n",
       "      <td>2/15/78</td>\n",
       "      <td>16</td>\n",
       "      <td>5.8</td>\n",
       "      <td>1978</td>\n",
       "      <td>1.002810e+07</td>\n",
       "      <td>0.000000e+00</td>\n",
       "    </tr>\n",
       "    <tr>\n",
       "      <th>5157</th>\n",
       "      <td>1.227582</td>\n",
       "      <td>315000</td>\n",
       "      <td>0</td>\n",
       "      <td>How the Grinch Stole Christmas!</td>\n",
       "      <td>Boris Karloff|June Foray|Thurl Ravenscroft|Dal...</td>\n",
       "      <td>Chuck Jones|Ben Washam</td>\n",
       "      <td>26.0</td>\n",
       "      <td>Animation|Family|Comedy</td>\n",
       "      <td>MGM Television|The Cat in the Hat Productions</td>\n",
       "      <td>12/18/66</td>\n",
       "      <td>286</td>\n",
       "      <td>7.1</td>\n",
       "      <td>1966</td>\n",
       "      <td>2.116175e+06</td>\n",
       "      <td>0.000000e+00</td>\n",
       "    </tr>\n",
       "    <tr>\n",
       "      <th>5158</th>\n",
       "      <td>0.670274</td>\n",
       "      <td>7500000</td>\n",
       "      <td>33736689</td>\n",
       "      <td>Who's Afraid of Virginia Woolf?</td>\n",
       "      <td>Elizabeth Taylor|Richard Burton|George Segal|S...</td>\n",
       "      <td>Mike Nichols</td>\n",
       "      <td>131.0</td>\n",
       "      <td>Drama</td>\n",
       "      <td>Chenault Productions</td>\n",
       "      <td>6/21/66</td>\n",
       "      <td>74</td>\n",
       "      <td>7.5</td>\n",
       "      <td>1966</td>\n",
       "      <td>5.038511e+07</td>\n",
       "      <td>2.266436e+08</td>\n",
       "    </tr>\n",
       "    <tr>\n",
       "      <th>5159</th>\n",
       "      <td>0.533292</td>\n",
       "      <td>18000000</td>\n",
       "      <td>0</td>\n",
       "      <td>The Bible: In the Beginning...</td>\n",
       "      <td>Michael Parks|Ulla Bergryd|Richard Harris|Fran...</td>\n",
       "      <td>John Huston</td>\n",
       "      <td>174.0</td>\n",
       "      <td>Drama</td>\n",
       "      <td>Seven Arts Productions|Dino de Laurentiis Cine...</td>\n",
       "      <td>9/28/66</td>\n",
       "      <td>18</td>\n",
       "      <td>5.8</td>\n",
       "      <td>1966</td>\n",
       "      <td>1.209243e+08</td>\n",
       "      <td>0.000000e+00</td>\n",
       "    </tr>\n",
       "    <tr>\n",
       "      <th>5160</th>\n",
       "      <td>0.410366</td>\n",
       "      <td>1377800</td>\n",
       "      <td>0</td>\n",
       "      <td>Batman</td>\n",
       "      <td>Adam West|Burt Ward|Cesar Romero|Burgess Mered...</td>\n",
       "      <td>Leslie H. Martinson</td>\n",
       "      <td>105.0</td>\n",
       "      <td>Family|Adventure|Comedy|Science Fiction|Crime</td>\n",
       "      <td>Twentieth Century Fox Film Corporation|DC Comi...</td>\n",
       "      <td>7/30/66</td>\n",
       "      <td>99</td>\n",
       "      <td>5.9</td>\n",
       "      <td>1966</td>\n",
       "      <td>9.256081e+06</td>\n",
       "      <td>0.000000e+00</td>\n",
       "    </tr>\n",
       "    <tr>\n",
       "      <th>5161</th>\n",
       "      <td>0.402730</td>\n",
       "      <td>3000000</td>\n",
       "      <td>13000000</td>\n",
       "      <td>Torn Curtain</td>\n",
       "      <td>Paul Newman|Julie Andrews|Lila Kedrova|HansjÃ¶...</td>\n",
       "      <td>Alfred Hitchcock</td>\n",
       "      <td>128.0</td>\n",
       "      <td>Mystery|Thriller</td>\n",
       "      <td>Universal Pictures</td>\n",
       "      <td>7/13/66</td>\n",
       "      <td>46</td>\n",
       "      <td>6.3</td>\n",
       "      <td>1966</td>\n",
       "      <td>2.015404e+07</td>\n",
       "      <td>8.733419e+07</td>\n",
       "    </tr>\n",
       "    <tr>\n",
       "      <th>5162</th>\n",
       "      <td>0.395668</td>\n",
       "      <td>4653000</td>\n",
       "      <td>6000000</td>\n",
       "      <td>El Dorado</td>\n",
       "      <td>John Wayne|Robert Mitchum|James Caan|Charlene ...</td>\n",
       "      <td>Howard Hawks</td>\n",
       "      <td>120.0</td>\n",
       "      <td>Action|Western</td>\n",
       "      <td>Paramount Pictures|Laurel Productions</td>\n",
       "      <td>12/17/66</td>\n",
       "      <td>36</td>\n",
       "      <td>6.9</td>\n",
       "      <td>1966</td>\n",
       "      <td>3.125892e+07</td>\n",
       "      <td>4.030809e+07</td>\n",
       "    </tr>\n",
       "    <tr>\n",
       "      <th>5163</th>\n",
       "      <td>0.358161</td>\n",
       "      <td>4800000</td>\n",
       "      <td>0</td>\n",
       "      <td>Arabesque</td>\n",
       "      <td>Gregory Peck|Sophia Loren|Alan Badel|Kieron Mo...</td>\n",
       "      <td>Stanley Donen</td>\n",
       "      <td>105.0</td>\n",
       "      <td>Action|Adventure|Thriller</td>\n",
       "      <td>Universal Pictures|Stanley Donen Films</td>\n",
       "      <td>5/5/66</td>\n",
       "      <td>14</td>\n",
       "      <td>5.6</td>\n",
       "      <td>1966</td>\n",
       "      <td>3.224647e+07</td>\n",
       "      <td>0.000000e+00</td>\n",
       "    </tr>\n",
       "    <tr>\n",
       "      <th>5164</th>\n",
       "      <td>0.299911</td>\n",
       "      <td>12000000</td>\n",
       "      <td>20000000</td>\n",
       "      <td>The Sand Pebbles</td>\n",
       "      <td>Steve McQueen|Richard Attenborough|Richard Cre...</td>\n",
       "      <td>Robert Wise</td>\n",
       "      <td>182.0</td>\n",
       "      <td>Action|Adventure|Drama|War|Romance</td>\n",
       "      <td>Twentieth Century Fox Film Corporation|Solar P...</td>\n",
       "      <td>12/20/66</td>\n",
       "      <td>28</td>\n",
       "      <td>7.0</td>\n",
       "      <td>1966</td>\n",
       "      <td>8.061618e+07</td>\n",
       "      <td>1.343603e+08</td>\n",
       "    </tr>\n",
       "    <tr>\n",
       "      <th>5165</th>\n",
       "      <td>0.264925</td>\n",
       "      <td>75000</td>\n",
       "      <td>0</td>\n",
       "      <td>The Shooting</td>\n",
       "      <td>Will Hutchins|Millie Perkins|Jack Nicholson|Wa...</td>\n",
       "      <td>Monte Hellman</td>\n",
       "      <td>82.0</td>\n",
       "      <td>Western</td>\n",
       "      <td>Proteus Films</td>\n",
       "      <td>10/23/66</td>\n",
       "      <td>12</td>\n",
       "      <td>5.5</td>\n",
       "      <td>1966</td>\n",
       "      <td>5.038511e+05</td>\n",
       "      <td>0.000000e+00</td>\n",
       "    </tr>\n",
       "    <tr>\n",
       "      <th>5166</th>\n",
       "      <td>0.207257</td>\n",
       "      <td>5115000</td>\n",
       "      <td>12000000</td>\n",
       "      <td>Fantastic Voyage</td>\n",
       "      <td>Stephen Boyd|Raquel Welch|Edmond O'Brien|Donal...</td>\n",
       "      <td>Richard Fleischer</td>\n",
       "      <td>100.0</td>\n",
       "      <td>Adventure|Science Fiction</td>\n",
       "      <td>Twentieth Century Fox Film Corporation</td>\n",
       "      <td>8/24/66</td>\n",
       "      <td>42</td>\n",
       "      <td>6.7</td>\n",
       "      <td>1966</td>\n",
       "      <td>3.436265e+07</td>\n",
       "      <td>8.061618e+07</td>\n",
       "    </tr>\n",
       "    <tr>\n",
       "      <th>5167</th>\n",
       "      <td>0.141026</td>\n",
       "      <td>700000</td>\n",
       "      <td>0</td>\n",
       "      <td>The Ghost &amp; Mr. Chicken</td>\n",
       "      <td>Don Knotts|Joan Staley|Liam Redmond|Dick Sarge...</td>\n",
       "      <td>Alan Rafkin</td>\n",
       "      <td>90.0</td>\n",
       "      <td>Comedy|Family|Mystery|Romance</td>\n",
       "      <td>Universal Pictures</td>\n",
       "      <td>1/20/66</td>\n",
       "      <td>14</td>\n",
       "      <td>6.1</td>\n",
       "      <td>1966</td>\n",
       "      <td>4.702610e+06</td>\n",
       "      <td>0.000000e+00</td>\n",
       "    </tr>\n",
       "    <tr>\n",
       "      <th>5168</th>\n",
       "      <td>0.035919</td>\n",
       "      <td>19000</td>\n",
       "      <td>0</td>\n",
       "      <td>Manos: The Hands of Fate</td>\n",
       "      <td>Harold P. Warren|Tom Neyman|John Reynolds|Dian...</td>\n",
       "      <td>Harold P. Warren</td>\n",
       "      <td>74.0</td>\n",
       "      <td>Horror</td>\n",
       "      <td>Norm-Iris</td>\n",
       "      <td>11/15/66</td>\n",
       "      <td>15</td>\n",
       "      <td>1.5</td>\n",
       "      <td>1966</td>\n",
       "      <td>1.276423e+05</td>\n",
       "      <td>0.000000e+00</td>\n",
       "    </tr>\n",
       "  </tbody>\n",
       "</table>\n",
       "<p>5169 rows × 15 columns</p>\n",
       "</div>"
      ],
      "text/plain": [
       "      popularity     budget     revenue  \\\n",
       "0      32.985763  150000000  1513528810   \n",
       "1      28.419936  150000000   378436354   \n",
       "2      13.112507  110000000   295238201   \n",
       "3      11.173104  200000000  2068178225   \n",
       "4       9.335014  190000000  1506249360   \n",
       "5       9.110700  135000000   532950503   \n",
       "6       8.654359  155000000   440603537   \n",
       "7       7.667400  108000000   595380321   \n",
       "8       7.404165   74000000  1156730962   \n",
       "9       6.326804  175000000   853708609   \n",
       "10      6.200282  245000000   880674609   \n",
       "11      6.189369  176000003   183987723   \n",
       "12      6.118847   15000000    36869414   \n",
       "13      5.984995   88000000   243637091   \n",
       "14      5.944927  280000000  1405035767   \n",
       "15      5.898400   44000000   155760117   \n",
       "16      5.749758   48000000   325771424   \n",
       "17      5.573184  130000000   518602163   \n",
       "18      5.556818   95000000   542351353   \n",
       "19      5.476958  160000000   650523427   \n",
       "20      5.462138  190000000   209035668   \n",
       "21      5.337064   30000000    91709827   \n",
       "22      4.907832  110000000   470490832   \n",
       "23      4.710402   40000000   569651467   \n",
       "24      4.648046   28000000   133346506   \n",
       "25      4.566713  150000000   682330139   \n",
       "26      4.564549   68000000   215863606   \n",
       "27      4.503789   81000000   403802136   \n",
       "28      4.062293   20000000    88346473   \n",
       "29      3.968891   61000000   311256926   \n",
       "...          ...        ...         ...   \n",
       "5139    0.480176    5000000           0   \n",
       "5140    0.468871    7920000    14560084   \n",
       "5141    0.439210         11          11   \n",
       "5142    0.435312    5000000     7230000   \n",
       "5143    0.411826   12000000    22765081   \n",
       "5144    0.409377    3500000    24046533   \n",
       "5145    0.451009     660000           0   \n",
       "5146    0.335197   10000000           0   \n",
       "5147    0.324081     650000           0   \n",
       "5148    0.277769   24000000    21049053   \n",
       "5149    0.241340    2700000           0   \n",
       "5150    0.236193    6800000    26518355   \n",
       "5151    0.226002    1000000     3713768   \n",
       "5152    0.214124    3000000           0   \n",
       "5153    0.177276   11000000           0   \n",
       "5154    0.227338    6727000           0   \n",
       "5155    0.409587      90000           0   \n",
       "5156    0.065504    3000000           0   \n",
       "5157    1.227582     315000           0   \n",
       "5158    0.670274    7500000    33736689   \n",
       "5159    0.533292   18000000           0   \n",
       "5160    0.410366    1377800           0   \n",
       "5161    0.402730    3000000    13000000   \n",
       "5162    0.395668    4653000     6000000   \n",
       "5163    0.358161    4800000           0   \n",
       "5164    0.299911   12000000    20000000   \n",
       "5165    0.264925      75000           0   \n",
       "5166    0.207257    5115000    12000000   \n",
       "5167    0.141026     700000           0   \n",
       "5168    0.035919      19000           0   \n",
       "\n",
       "                             original_title  \\\n",
       "0                            Jurassic World   \n",
       "1                        Mad Max: Fury Road   \n",
       "2                                 Insurgent   \n",
       "3              Star Wars: The Force Awakens   \n",
       "4                                 Furious 7   \n",
       "5                              The Revenant   \n",
       "6                        Terminator Genisys   \n",
       "7                               The Martian   \n",
       "8                                   Minions   \n",
       "9                                Inside Out   \n",
       "10                                  Spectre   \n",
       "11                        Jupiter Ascending   \n",
       "12                               Ex Machina   \n",
       "13                                   Pixels   \n",
       "14                  Avengers: Age of Ultron   \n",
       "15                        The Hateful Eight   \n",
       "16                                  Taken 3   \n",
       "17                                  Ant-Man   \n",
       "18                               Cinderella   \n",
       "19    The Hunger Games: Mockingjay - Part 2   \n",
       "20                             Tomorrowland   \n",
       "21                                 Southpaw   \n",
       "22                              San Andreas   \n",
       "23                     Fifty Shades of Grey   \n",
       "24                            The Big Short   \n",
       "25       Mission: Impossible - Rogue Nation   \n",
       "26                                    Ted 2   \n",
       "27             Kingsman: The Secret Service   \n",
       "28                                Spotlight   \n",
       "29           Maze Runner: The Scorch Trials   \n",
       "...                                     ...   \n",
       "5139                          Capricorn One   \n",
       "5140                      Death on the Nile   \n",
       "5141                               F.I.S.T.   \n",
       "5142                 Force 10 from Navarone   \n",
       "5143                                 Convoy   \n",
       "5144         Invasion of the Body Snatchers   \n",
       "5145                                Piranha   \n",
       "5146                         The Wild Geese   \n",
       "5147                       Day of the Woman   \n",
       "5148                                The Wiz   \n",
       "5149                 I Wanna Hold Your Hand   \n",
       "5150                        Damien: Omen II   \n",
       "5151                         Watership Down   \n",
       "5152                   Battlestar Galactica   \n",
       "5153                          Big Wednesday   \n",
       "5154                                 Fedora   \n",
       "5155         Attack of the Killer Tomatoes!   \n",
       "5156                            Coming Home   \n",
       "5157        How the Grinch Stole Christmas!   \n",
       "5158        Who's Afraid of Virginia Woolf?   \n",
       "5159         The Bible: In the Beginning...   \n",
       "5160                                 Batman   \n",
       "5161                           Torn Curtain   \n",
       "5162                              El Dorado   \n",
       "5163                              Arabesque   \n",
       "5164                       The Sand Pebbles   \n",
       "5165                           The Shooting   \n",
       "5166                       Fantastic Voyage   \n",
       "5167                The Ghost & Mr. Chicken   \n",
       "5168               Manos: The Hands of Fate   \n",
       "\n",
       "                                                   cast  \\\n",
       "0     Chris Pratt|Bryce Dallas Howard|Irrfan Khan|Vi...   \n",
       "1     Tom Hardy|Charlize Theron|Hugh Keays-Byrne|Nic...   \n",
       "2     Shailene Woodley|Theo James|Kate Winslet|Ansel...   \n",
       "3     Harrison Ford|Mark Hamill|Carrie Fisher|Adam D...   \n",
       "4     Vin Diesel|Paul Walker|Jason Statham|Michelle ...   \n",
       "5     Leonardo DiCaprio|Tom Hardy|Will Poulter|Domhn...   \n",
       "6     Arnold Schwarzenegger|Jason Clarke|Emilia Clar...   \n",
       "7     Matt Damon|Jessica Chastain|Kristen Wiig|Jeff ...   \n",
       "8     Sandra Bullock|Jon Hamm|Michael Keaton|Allison...   \n",
       "9     Amy Poehler|Phyllis Smith|Richard Kind|Bill Ha...   \n",
       "10    Daniel Craig|Christoph Waltz|LÃ©a Seydoux|Ralp...   \n",
       "11    Mila Kunis|Channing Tatum|Sean Bean|Eddie Redm...   \n",
       "12    Domhnall Gleeson|Alicia Vikander|Oscar Isaac|S...   \n",
       "13    Adam Sandler|Michelle Monaghan|Peter Dinklage|...   \n",
       "14    Robert Downey Jr.|Chris Hemsworth|Mark Ruffalo...   \n",
       "15    Samuel L. Jackson|Kurt Russell|Jennifer Jason ...   \n",
       "16    Liam Neeson|Forest Whitaker|Maggie Grace|Famke...   \n",
       "17    Paul Rudd|Michael Douglas|Evangeline Lilly|Cor...   \n",
       "18    Lily James|Cate Blanchett|Richard Madden|Helen...   \n",
       "19    Jennifer Lawrence|Josh Hutcherson|Liam Hemswor...   \n",
       "20    Britt Robertson|George Clooney|Raffey Cassidy|...   \n",
       "21    Jake Gyllenhaal|Rachel McAdams|Forest Whitaker...   \n",
       "22    Dwayne Johnson|Alexandra Daddario|Carla Gugino...   \n",
       "23    Dakota Johnson|Jamie Dornan|Jennifer Ehle|Eloi...   \n",
       "24    Christian Bale|Steve Carell|Ryan Gosling|Brad ...   \n",
       "25    Tom Cruise|Jeremy Renner|Simon Pegg|Rebecca Fe...   \n",
       "26    Mark Wahlberg|Seth MacFarlane|Amanda Seyfried|...   \n",
       "27    Taron Egerton|Colin Firth|Samuel L. Jackson|Mi...   \n",
       "28    Mark Ruffalo|Michael Keaton|Rachel McAdams|Lie...   \n",
       "29    Dylan O'Brien|Kaya Scodelario|Thomas Brodie-Sa...   \n",
       "...                                                 ...   \n",
       "5139  Elliott Gould|James Brolin|Brenda Vaccaro|Sam ...   \n",
       "5140  Peter Ustinov|Mia Farrow|Simon MacCorkindale|L...   \n",
       "5141  Sylvester Stallone|Rod Steiger|Peter Boyle|Mel...   \n",
       "5142  Harrison Ford|Robert Shaw|Barbara Bach|Edward ...   \n",
       "5143  Kris Kristofferson|Ali MacGraw|Ernest Borgnine...   \n",
       "5144  Donald Sutherland|Brooke Adams|Leonard Nimoy|V...   \n",
       "5145  Heather Menzies|Kevin McCarthy|Dick Miller|Kee...   \n",
       "5146  Richard Burton|Roger Moore|Richard Harris|Hard...   \n",
       "5147  Camille Keaton|Eron Tabor|Richard Pace|Anthony...   \n",
       "5148  Diana Ross|Michael Jackson|Nipsey Russell|Ted ...   \n",
       "5149  Nancy Allen|Bobby Di Cicco|Wendie Jo Sperber|T...   \n",
       "5150  William Holden|Lee Grant|Jonathan Scott-Taylor...   \n",
       "5151  John Hurt|Richard Briers|Michael Graham Cox|Jo...   \n",
       "5152  Richard Hatch|Dirk Benedict|Lorne Greene|Herb ...   \n",
       "5153  Jan-Michael Vincent|William Katt|Gary Busey|Pa...   \n",
       "5154  William Holden|Marthe Keller|Hildegard Knef|Jo...   \n",
       "5155  David Miller|George Wilson|Sharon Taylor|J. St...   \n",
       "5156  Jane Fonda|Jon Voight|Bruce Dern|Penelope Milf...   \n",
       "5157  Boris Karloff|June Foray|Thurl Ravenscroft|Dal...   \n",
       "5158  Elizabeth Taylor|Richard Burton|George Segal|S...   \n",
       "5159  Michael Parks|Ulla Bergryd|Richard Harris|Fran...   \n",
       "5160  Adam West|Burt Ward|Cesar Romero|Burgess Mered...   \n",
       "5161  Paul Newman|Julie Andrews|Lila Kedrova|HansjÃ¶...   \n",
       "5162  John Wayne|Robert Mitchum|James Caan|Charlene ...   \n",
       "5163  Gregory Peck|Sophia Loren|Alan Badel|Kieron Mo...   \n",
       "5164  Steve McQueen|Richard Attenborough|Richard Cre...   \n",
       "5165  Will Hutchins|Millie Perkins|Jack Nicholson|Wa...   \n",
       "5166  Stephen Boyd|Raquel Welch|Edmond O'Brien|Donal...   \n",
       "5167  Don Knotts|Joan Staley|Liam Redmond|Dick Sarge...   \n",
       "5168  Harold P. Warren|Tom Neyman|John Reynolds|Dian...   \n",
       "\n",
       "                            director  runtime  \\\n",
       "0                    Colin Trevorrow    124.0   \n",
       "1                      George Miller    120.0   \n",
       "2                   Robert Schwentke    119.0   \n",
       "3                        J.J. Abrams    136.0   \n",
       "4                          James Wan    137.0   \n",
       "5     Alejandro GonzÃ¡lez IÃ±Ã¡rritu    156.0   \n",
       "6                        Alan Taylor    125.0   \n",
       "7                       Ridley Scott    141.0   \n",
       "8           Kyle Balda|Pierre Coffin     91.0   \n",
       "9                        Pete Docter     94.0   \n",
       "10                        Sam Mendes    148.0   \n",
       "11    Lana Wachowski|Lilly Wachowski    124.0   \n",
       "12                      Alex Garland    108.0   \n",
       "13                    Chris Columbus    105.0   \n",
       "14                       Joss Whedon    141.0   \n",
       "15                 Quentin Tarantino    167.0   \n",
       "16                   Olivier Megaton    109.0   \n",
       "17                       Peyton Reed    115.0   \n",
       "18                   Kenneth Branagh    112.0   \n",
       "19                  Francis Lawrence    136.0   \n",
       "20                         Brad Bird    130.0   \n",
       "21                     Antoine Fuqua    123.0   \n",
       "22                       Brad Peyton    114.0   \n",
       "23                Sam Taylor-Johnson    125.0   \n",
       "24                        Adam McKay    130.0   \n",
       "25             Christopher McQuarrie    131.0   \n",
       "26                   Seth MacFarlane    115.0   \n",
       "27                    Matthew Vaughn    130.0   \n",
       "28                      Tom McCarthy    128.0   \n",
       "29                          Wes Ball    132.0   \n",
       "...                              ...      ...   \n",
       "5139                     Peter Hyams    123.0   \n",
       "5140                 John Guillermin    140.0   \n",
       "5141                  Norman Jewison    145.0   \n",
       "5142                    Guy Hamilton    118.0   \n",
       "5143                   Sam Peckinpah    110.0   \n",
       "5144                  Philip Kaufman    115.0   \n",
       "5145                       Joe Dante     94.0   \n",
       "5146              Andrew V. McLaglen    134.0   \n",
       "5147                     Meir Zarchi    101.0   \n",
       "5148                    Sidney Lumet    134.0   \n",
       "5149                 Robert Zemeckis    104.0   \n",
       "5150          Don Taylor|Mike Hodges    107.0   \n",
       "5151                    Martin Rosen     88.0   \n",
       "5152   Richard A. Colla|Alan J. Levi    125.0   \n",
       "5153                     John Milius    120.0   \n",
       "5154                    Billy Wilder    114.0   \n",
       "5155                   John De Bello     87.0   \n",
       "5156                       Hal Ashby    127.0   \n",
       "5157          Chuck Jones|Ben Washam     26.0   \n",
       "5158                    Mike Nichols    131.0   \n",
       "5159                     John Huston    174.0   \n",
       "5160             Leslie H. Martinson    105.0   \n",
       "5161                Alfred Hitchcock    128.0   \n",
       "5162                    Howard Hawks    120.0   \n",
       "5163                   Stanley Donen    105.0   \n",
       "5164                     Robert Wise    182.0   \n",
       "5165                   Monte Hellman     82.0   \n",
       "5166               Richard Fleischer    100.0   \n",
       "5167                     Alan Rafkin     90.0   \n",
       "5168                Harold P. Warren     74.0   \n",
       "\n",
       "                                               genres  \\\n",
       "0           Action|Adventure|Science Fiction|Thriller   \n",
       "1           Action|Adventure|Science Fiction|Thriller   \n",
       "2                  Adventure|Science Fiction|Thriller   \n",
       "3            Action|Adventure|Science Fiction|Fantasy   \n",
       "4                               Action|Crime|Thriller   \n",
       "5                    Western|Drama|Adventure|Thriller   \n",
       "6           Science Fiction|Action|Thriller|Adventure   \n",
       "7                     Drama|Adventure|Science Fiction   \n",
       "8                   Family|Animation|Adventure|Comedy   \n",
       "9                             Comedy|Animation|Family   \n",
       "10                             Action|Adventure|Crime   \n",
       "11           Science Fiction|Fantasy|Action|Adventure   \n",
       "12                              Drama|Science Fiction   \n",
       "13                      Action|Comedy|Science Fiction   \n",
       "14                   Action|Adventure|Science Fiction   \n",
       "15                        Crime|Drama|Mystery|Western   \n",
       "16                              Crime|Action|Thriller   \n",
       "17                   Science Fiction|Action|Adventure   \n",
       "18                       Romance|Fantasy|Family|Drama   \n",
       "19                      War|Adventure|Science Fiction   \n",
       "20    Action|Family|Science Fiction|Adventure|Mystery   \n",
       "21                                       Action|Drama   \n",
       "22                              Action|Drama|Thriller   \n",
       "23                                      Drama|Romance   \n",
       "24                                       Comedy|Drama   \n",
       "25                                             Action   \n",
       "26                                             Comedy   \n",
       "27                      Crime|Comedy|Action|Adventure   \n",
       "28                             Drama|Thriller|History   \n",
       "29                    Action|Science Fiction|Thriller   \n",
       "...                                               ...   \n",
       "5139            Drama|Action|Thriller|Science Fiction   \n",
       "5140                                          Mystery   \n",
       "5141                                     Drama|Action   \n",
       "5142                    Action|Adventure|War|Thriller   \n",
       "5143                              Action|Comedy|Drama   \n",
       "5144          Horror|Thriller|Science Fiction|Mystery   \n",
       "5145                                           Horror   \n",
       "5146                              Action|Thriller|War   \n",
       "5147                                           Horror   \n",
       "5148   Adventure|Family|Fantasy|Music|Science Fiction   \n",
       "5149                                    Comedy|Family   \n",
       "5150                     Action|Drama|Horror|Thriller   \n",
       "5151                        Adventure|Animation|Drama   \n",
       "5152                        Science Fiction|Adventure   \n",
       "5153                                            Drama   \n",
       "5154                                    Drama|Romance   \n",
       "5155                    Comedy|Horror|Science Fiction   \n",
       "5156                                Drama|Romance|War   \n",
       "5157                          Animation|Family|Comedy   \n",
       "5158                                            Drama   \n",
       "5159                                            Drama   \n",
       "5160    Family|Adventure|Comedy|Science Fiction|Crime   \n",
       "5161                                 Mystery|Thriller   \n",
       "5162                                   Action|Western   \n",
       "5163                        Action|Adventure|Thriller   \n",
       "5164               Action|Adventure|Drama|War|Romance   \n",
       "5165                                          Western   \n",
       "5166                        Adventure|Science Fiction   \n",
       "5167                    Comedy|Family|Mystery|Romance   \n",
       "5168                                           Horror   \n",
       "\n",
       "                                   production_companies release_date  \\\n",
       "0     Universal Studios|Amblin Entertainment|Legenda...       6/9/15   \n",
       "1     Village Roadshow Pictures|Kennedy Miller Produ...      5/13/15   \n",
       "2     Summit Entertainment|Mandeville Films|Red Wago...      3/18/15   \n",
       "3             Lucasfilm|Truenorth Productions|Bad Robot     12/15/15   \n",
       "4     Universal Pictures|Original Film|Media Rights ...       4/1/15   \n",
       "5     Regency Enterprises|Appian Way|CatchPlay|Anony...     12/25/15   \n",
       "6               Paramount Pictures|Skydance Productions      6/23/15   \n",
       "7     Twentieth Century Fox Film Corporation|Scott F...      9/30/15   \n",
       "8         Universal Pictures|Illumination Entertainment      6/17/15   \n",
       "9     Walt Disney Pictures|Pixar Animation Studios|W...       6/9/15   \n",
       "10                         Columbia Pictures|Danjaq|B24     10/26/15   \n",
       "11    Village Roadshow Pictures|Dune Entertainment|A...       2/4/15   \n",
       "12    DNA Films|Universal Pictures International (UP...      1/21/15   \n",
       "13          Columbia Pictures|Happy Madison Productions      7/16/15   \n",
       "14    Marvel Studios|Prime Focus|Revolution Sun Studios      4/22/15   \n",
       "15    Double Feature Films|The Weinstein Company|Fil...     12/25/15   \n",
       "16    Twentieth Century Fox Film Corporation|M6 Film...       1/1/15   \n",
       "17                                       Marvel Studios      7/14/15   \n",
       "18    Walt Disney Pictures|Genre Films|Beagle Pug Fi...      3/12/15   \n",
       "19    Studio Babelsberg|StudioCanal|Lionsgate|Walt D...     11/18/15   \n",
       "20                    Walt Disney Pictures|Babieka|A113      5/19/15   \n",
       "21              Escape Artists|Riche-Ludwig Productions      6/15/15   \n",
       "22    New Line Cinema|Village Roadshow Pictures|Warn...      5/27/15   \n",
       "23    Focus Features|Trigger Street Productions|Mich...      2/11/15   \n",
       "24    Paramount Pictures|Plan B Entertainment|Regenc...     12/11/15   \n",
       "25    Paramount Pictures|Skydance Productions|China ...      7/23/15   \n",
       "26    Universal Pictures|Media Rights Capital|Fuzzy ...      6/25/15   \n",
       "27    Twentieth Century Fox Film Corporation|Marv Fi...      1/24/15   \n",
       "28    Participant Media|Open Road Films|Anonymous Co...      11/6/15   \n",
       "29    Gotham Group|Temple Hill Entertainment|TSG Ent...       9/9/15   \n",
       "...                                                 ...          ...   \n",
       "5139  Associated General Films|Incorporated Televisi...      1/11/78   \n",
       "5140                 EMI Films Ltd.|Mersham Productions      10/6/78   \n",
       "5141                                chateau productions      4/26/78   \n",
       "5142                      Columbia Pictures Corporation      11/1/78   \n",
       "5143                                     EMI Films Ltd.      6/27/78   \n",
       "5144                            United Artists|Solofilm     12/19/78   \n",
       "5145                                 New World Pictures       8/3/78   \n",
       "5146                               Richmond Productions       7/5/78   \n",
       "5147                                 Cinemagic Pictures      11/2/78   \n",
       "5148              Universal Pictures|Motown Productions     10/24/78   \n",
       "5149                                 Universal Pictures      4/20/78   \n",
       "5150  Twentieth Century Fox Film Corporation|Mace Ne...       6/9/78   \n",
       "5151         Nepenthe Productions|Watership Productions     10/14/78   \n",
       "5152            Universal TV|Glen A. Larson Productions      9/16/78   \n",
       "5153                                       Warner Bros.       5/2/78   \n",
       "5154           SociÃ©tÃ© FranÃ§aise de Production (SFP)      5/30/78   \n",
       "5155                            Four Square Productions      10/1/78   \n",
       "5156  United Artists|Jerome Hellman Productions|Jayn...      2/15/78   \n",
       "5157      MGM Television|The Cat in the Hat Productions     12/18/66   \n",
       "5158                               Chenault Productions      6/21/66   \n",
       "5159  Seven Arts Productions|Dino de Laurentiis Cine...      9/28/66   \n",
       "5160  Twentieth Century Fox Film Corporation|DC Comi...      7/30/66   \n",
       "5161                                 Universal Pictures      7/13/66   \n",
       "5162              Paramount Pictures|Laurel Productions     12/17/66   \n",
       "5163             Universal Pictures|Stanley Donen Films       5/5/66   \n",
       "5164  Twentieth Century Fox Film Corporation|Solar P...     12/20/66   \n",
       "5165                                      Proteus Films     10/23/66   \n",
       "5166             Twentieth Century Fox Film Corporation      8/24/66   \n",
       "5167                                 Universal Pictures      1/20/66   \n",
       "5168                                          Norm-Iris     11/15/66   \n",
       "\n",
       "      vote_count  vote_average  release_year    budget_adj   revenue_adj  \n",
       "0           5562           6.5          2015  1.379999e+08  1.392446e+09  \n",
       "1           6185           7.1          2015  1.379999e+08  3.481613e+08  \n",
       "2           2480           6.3          2015  1.012000e+08  2.716190e+08  \n",
       "3           5292           7.5          2015  1.839999e+08  1.902723e+09  \n",
       "4           2947           7.3          2015  1.747999e+08  1.385749e+09  \n",
       "5           3929           7.2          2015  1.241999e+08  4.903142e+08  \n",
       "6           2598           5.8          2015  1.425999e+08  4.053551e+08  \n",
       "7           4572           7.6          2015  9.935996e+07  5.477497e+08  \n",
       "8           2893           6.5          2015  6.807997e+07  1.064192e+09  \n",
       "9           3935           8.0          2015  1.609999e+08  7.854116e+08  \n",
       "10          3254           6.2          2015  2.253999e+08  8.102203e+08  \n",
       "11          1937           5.2          2015  1.619199e+08  1.692686e+08  \n",
       "12          2854           7.6          2015  1.379999e+07  3.391985e+07  \n",
       "13          1575           5.8          2015  8.095996e+07  2.241460e+08  \n",
       "14          4304           7.4          2015  2.575999e+08  1.292632e+09  \n",
       "15          2389           7.4          2015  4.047998e+07  1.432992e+08  \n",
       "16          1578           6.1          2015  4.415998e+07  2.997096e+08  \n",
       "17          3779           7.0          2015  1.195999e+08  4.771138e+08  \n",
       "18          1495           6.8          2015  8.739996e+07  4.989630e+08  \n",
       "19          2380           6.5          2015  1.471999e+08  5.984813e+08  \n",
       "20          1899           6.2          2015  1.747999e+08  1.923127e+08  \n",
       "21          1386           7.3          2015  2.759999e+07  8.437300e+07  \n",
       "22          2060           6.1          2015  1.012000e+08  4.328514e+08  \n",
       "23          1865           5.3          2015  3.679998e+07  5.240791e+08  \n",
       "24          1545           7.3          2015  2.575999e+07  1.226787e+08  \n",
       "25          2349           7.1          2015  1.379999e+08  6.277435e+08  \n",
       "26          1666           6.3          2015  6.255997e+07  1.985944e+08  \n",
       "27          3833           7.6          2015  7.451997e+07  3.714978e+08  \n",
       "28          1559           7.8          2015  1.839999e+07  8.127872e+07  \n",
       "29          1849           6.4          2015  5.611998e+07  2.863562e+08  \n",
       "...          ...           ...           ...           ...           ...  \n",
       "5139          61           5.9          1978  1.671350e+07  0.000000e+00  \n",
       "5140          51           6.2          1978  2.647419e+07  4.867000e+07  \n",
       "5141          13           6.7          1978  3.676971e+01  3.676971e+01  \n",
       "5142          39           6.6          1978  1.671350e+07  2.416773e+07  \n",
       "5143          31           6.2          1978  4.011241e+07  7.609685e+07  \n",
       "5144          87           6.5          1978  1.169945e+07  8.038036e+07  \n",
       "5145          44           5.6          1978  2.206182e+06  0.000000e+00  \n",
       "5146          31           5.4          1978  3.342701e+07  0.000000e+00  \n",
       "5147          46           5.7          1978  2.172755e+06  0.000000e+00  \n",
       "5148          30           6.1          1978  8.022482e+07  7.036068e+07  \n",
       "5149          11           7.0          1978  9.025292e+06  0.000000e+00  \n",
       "5150          71           6.1          1978  2.273036e+07  8.864292e+07  \n",
       "5151          67           6.8          1978  3.342701e+06  1.241401e+07  \n",
       "5152          22           5.8          1978  1.002810e+07  0.000000e+00  \n",
       "5153          18           5.9          1978  3.676971e+07  0.000000e+00  \n",
       "5154          10           4.9          1978  2.248635e+07  0.000000e+00  \n",
       "5155          38           4.3          1978  3.008431e+05  0.000000e+00  \n",
       "5156          16           5.8          1978  1.002810e+07  0.000000e+00  \n",
       "5157         286           7.1          1966  2.116175e+06  0.000000e+00  \n",
       "5158          74           7.5          1966  5.038511e+07  2.266436e+08  \n",
       "5159          18           5.8          1966  1.209243e+08  0.000000e+00  \n",
       "5160          99           5.9          1966  9.256081e+06  0.000000e+00  \n",
       "5161          46           6.3          1966  2.015404e+07  8.733419e+07  \n",
       "5162          36           6.9          1966  3.125892e+07  4.030809e+07  \n",
       "5163          14           5.6          1966  3.224647e+07  0.000000e+00  \n",
       "5164          28           7.0          1966  8.061618e+07  1.343603e+08  \n",
       "5165          12           5.5          1966  5.038511e+05  0.000000e+00  \n",
       "5166          42           6.7          1966  3.436265e+07  8.061618e+07  \n",
       "5167          14           6.1          1966  4.702610e+06  0.000000e+00  \n",
       "5168          15           1.5          1966  1.276423e+05  0.000000e+00  \n",
       "\n",
       "[5169 rows x 15 columns]"
      ]
     },
     "execution_count": 113,
     "metadata": {},
     "output_type": "execute_result"
    }
   ],
   "source": [
    "df_high"
   ]
  },
  {
   "cell_type": "code",
   "execution_count": 114,
   "metadata": {},
   "outputs": [
    {
     "name": "stdout",
     "output_type": "stream",
     "text": [
      "<class 'pandas.core.frame.DataFrame'>\n",
      "RangeIndex: 5169 entries, 0 to 5168\n",
      "Data columns (total 15 columns):\n",
      "popularity              5169 non-null float64\n",
      "budget                  5169 non-null int64\n",
      "revenue                 5169 non-null int64\n",
      "original_title          5169 non-null object\n",
      "cast                    5158 non-null object\n",
      "director                5165 non-null object\n",
      "runtime                 5166 non-null float64\n",
      "genres                  5168 non-null object\n",
      "production_companies    5033 non-null object\n",
      "release_date            5169 non-null object\n",
      "vote_count              5169 non-null int64\n",
      "vote_average            5169 non-null float64\n",
      "release_year            5169 non-null int64\n",
      "budget_adj              5169 non-null float64\n",
      "revenue_adj             5169 non-null float64\n",
      "dtypes: float64(5), int64(4), object(6)\n",
      "memory usage: 605.8+ KB\n"
     ]
    }
   ],
   "source": [
    "df_high.info()"
   ]
  },
  {
   "cell_type": "code",
   "execution_count": 115,
   "metadata": {},
   "outputs": [],
   "source": [
    "col_lst = []\n",
    "for column in df_high:\n",
    "    col_lst.append(column)"
   ]
  },
  {
   "cell_type": "code",
   "execution_count": 116,
   "metadata": {},
   "outputs": [],
   "source": [
    "df_action = pd.DataFrame(columns = col_lst)\n",
    "df_adventure = pd.DataFrame(columns = col_lst)\n",
    "df_fantasy = pd.DataFrame(columns = col_lst)\n",
    "df_crime = pd.DataFrame(columns = col_lst)\n",
    "df_horror = pd.DataFrame(columns = col_lst)"
   ]
  },
  {
   "cell_type": "code",
   "execution_count": 117,
   "metadata": {},
   "outputs": [],
   "source": [
    "for i in range(5100):\n",
    "    \n",
    "    if 'Action' in df_high['genres'][i].split('|'):\n",
    "       \n",
    "        df_action = df_action.append(df_high.iloc[i])\n",
    "        \n",
    "    elif 'Adventure' in df_high['genres'][i].split('|'):\n",
    "        \n",
    "        df_adventure = df_adventure.append(df_high.iloc[i])\n",
    "        \n",
    "    elif 'Fantasy' in df_high['genres'][i].split('|'):\n",
    "        \n",
    "        df_fantasy = df_fantasy.append(df_high.iloc[i])\n",
    "        \n",
    "    elif 'Crime' in df_high['genres'][i].split('|'):\n",
    "        \n",
    "        df_crime = df_crime.append(df_high.iloc[i])\n",
    "        \n",
    "    elif 'Horror' in df_high['genres'][i].split('|'):\n",
    "        \n",
    "        df_horror = df_horror.append(df_high.iloc[i])\n",
    "        \n",
    "    else :        \n",
    "        continue\n",
    "        "
   ]
  },
  {
   "cell_type": "code",
   "execution_count": null,
   "metadata": {},
   "outputs": [],
   "source": []
  },
  {
   "cell_type": "markdown",
   "metadata": {},
   "source": [
    "### Finding the average vote for different genres "
   ]
  },
  {
   "cell_type": "code",
   "execution_count": 118,
   "metadata": {},
   "outputs": [
    {
     "data": {
      "image/png": "[encoded data removed]",
      "text/plain": [
       "<Figure size 432x288 with 1 Axes>"
      ]
     },
     "metadata": {
      "needs_background": "light"
     },
     "output_type": "display_data"
    }
   ],
   "source": [
    "plt.hist(df_action['vote_average'], rwidth = 0.6,color = 'b')\n",
    "plt.xlabel('Vote Average')\n",
    "plt.ylabel('Number of Movies')\n",
    "plt.title('Vote Average for Action Movies');"
   ]
  },
  {
   "cell_type": "code",
   "execution_count": 119,
   "metadata": {},
   "outputs": [
    {
     "data": {
      "image/png": "[encoded data removed]",
      "text/plain": [
       "<Figure size 432x288 with 1 Axes>"
      ]
     },
     "metadata": {
      "needs_background": "light"
     },
     "output_type": "display_data"
    }
   ],
   "source": [
    "plt.hist(df_adventure['vote_average'], histtype = 'bar', rwidth = 0.6,color = 'm')\n",
    "plt.xlabel('Vote Average')\n",
    "plt.ylabel('Number of Movies')\n",
    "plt.title('Vote Average for Adventure Movies');"
   ]
  },
  {
   "cell_type": "code",
   "execution_count": 120,
   "metadata": {},
   "outputs": [
    {
     "data": {
      "image/png": "[encoded data removed]",
      "text/plain": [
       "<Figure size 432x288 with 1 Axes>"
      ]
     },
     "metadata": {
      "needs_background": "light"
     },
     "output_type": "display_data"
    }
   ],
   "source": [
    "plt.hist(df_fantasy['vote_average'], histtype = 'bar', rwidth = 0.6,color='c')\n",
    "plt.xlabel('Vote Average')\n",
    "plt.ylabel('Number of Movies')\n",
    "plt.title('Vote Average for Fantasy Movies');"
   ]
  },
  {
   "cell_type": "code",
   "execution_count": 121,
   "metadata": {},
   "outputs": [
    {
     "data": {
      "image/png": "[encoded data removed]",
      "text/plain": [
       "<Figure size 432x288 with 1 Axes>"
      ]
     },
     "metadata": {
      "needs_background": "light"
     },
     "output_type": "display_data"
    }
   ],
   "source": [
    "plt.hist(df_horror['vote_average'], histtype = 'bar', rwidth = 0.6,color='y')\n",
    "plt.xlabel('Vote Average')\n",
    "plt.ylabel('Number of Movies')\n",
    "plt.title('Vote Average for Horror Movies');"
   ]
  },
  {
   "cell_type": "code",
   "execution_count": 122,
   "metadata": {},
   "outputs": [
    {
     "data": {
      "image/png": "[encoded data removed]",
      "text/plain": [
       "<Figure size 432x288 with 1 Axes>"
      ]
     },
     "metadata": {
      "needs_background": "light"
     },
     "output_type": "display_data"
    }
   ],
   "source": [
    "plt.hist(df_crime['vote_average'], histtype = 'bar', rwidth = 0.6,color='g')\n",
    "plt.xlabel('Vote Average')\n",
    "plt.ylabel('Number of Movies')\n",
    "plt.title('Vote Average for Crime Movies');"
   ]
  },
  {
   "cell_type": "markdown",
   "metadata": {},
   "source": [
    "### The plots above show that the vote average for all the genres selected is roughly the same. A pie plot will illustrate it in a better way"
   ]
  },
  {
   "cell_type": "code",
   "execution_count": 123,
   "metadata": {},
   "outputs": [],
   "source": [
    "slices_vote = [df_action.vote_average.mean(), df_adventure.vote_average.mean(), df_fantasy.vote_average.mean(), df_crime.vote_average.mean(), df_horror.vote_average.mean()]"
   ]
  },
  {
   "cell_type": "code",
   "execution_count": 124,
   "metadata": {},
   "outputs": [],
   "source": [
    "genres = ['Action','Adventure','Fantasy','Crime','Horror']"
   ]
  },
  {
   "cell_type": "code",
   "execution_count": 125,
   "metadata": {},
   "outputs": [
    {
     "data": {
      "image/png": "[encoded data removed]",
      "text/plain": [
       "<Figure size 432x288 with 1 Axes>"
      ]
     },
     "metadata": {},
     "output_type": "display_data"
    }
   ],
   "source": [
    "plt.pie(slices_vote, labels = genres, shadow = True, autopct = '%1.1f%%');"
   ]
  },
  {
   "cell_type": "code",
   "execution_count": null,
   "metadata": {},
   "outputs": [],
   "source": []
  },
  {
   "cell_type": "markdown",
   "metadata": {},
   "source": [
    "<a id='q4'></a>\n",
    "## Research Question 4 \n",
    "\n",
    "## What are the shares of revenue among the different movie genres?"
   ]
  },
  {
   "cell_type": "code",
   "execution_count": 126,
   "metadata": {},
   "outputs": [],
   "source": [
    "slices = [df_action.revenue.median(), df_adventure.revenue.median(), df_fantasy.revenue.median(), df_crime.revenue.median(), df_horror.revenue.median()]"
   ]
  },
  {
   "cell_type": "code",
   "execution_count": 127,
   "metadata": {},
   "outputs": [],
   "source": [
    "genres = ['Action','Adventure','Fantasy','Crime','Horror']"
   ]
  },
  {
   "cell_type": "code",
   "execution_count": 128,
   "metadata": {},
   "outputs": [
    {
     "data": {
      "image/png": "[encoded data removed]",
      "text/plain": [
       "<Figure size 432x288 with 1 Axes>"
      ]
     },
     "metadata": {},
     "output_type": "display_data"
    }
   ],
   "source": [
    "plt.pie(slices, labels = genres, shadow = True, autopct = '%1.1f%%');"
   ]
  },
  {
   "cell_type": "code",
   "execution_count": 129,
   "metadata": {},
   "outputs": [],
   "source": [
    "slices1 = [df_action.revenue.mean(), df_adventure.revenue.mean(), df_fantasy.revenue.mean(), df_crime.revenue.mean(), df_horror.revenue.mean()]"
   ]
  },
  {
   "cell_type": "code",
   "execution_count": 130,
   "metadata": {},
   "outputs": [
    {
     "data": {
      "image/png": "[encoded data removed]",
      "text/plain": [
       "<Figure size 432x288 with 1 Axes>"
      ]
     },
     "metadata": {},
     "output_type": "display_data"
    }
   ],
   "source": [
    "plt.pie(slices1, labels = genres, shadow = True, autopct = '%1.1f%%');"
   ]
  },
  {
   "cell_type": "markdown",
   "metadata": {},
   "source": [
    "### The tests above show that Action and Adventure movies made the largest contribution to the share of revenues"
   ]
  },
  {
   "cell_type": "code",
   "execution_count": null,
   "metadata": {},
   "outputs": [],
   "source": []
  },
  {
   "cell_type": "markdown",
   "metadata": {},
   "source": [
    "<a id='q5'></a>\n",
    "## Research Question 5\n",
    "\n",
    "## Is there a correlation between movie runtimes and revenue? Is there a correlation between movie runtimes and the average vote received?"
   ]
  },
  {
   "cell_type": "code",
   "execution_count": 131,
   "metadata": {},
   "outputs": [],
   "source": [
    "# creating two more dataframes\n",
    "\n",
    "# dataframe which contains revenue greater than the median\n",
    "df_high_rev = df_movies[df_movies.revenue > df_movies.revenue.median()]\n",
    "\n",
    "# dataframe which contains revenue lesser than the median\n",
    "df_low_rev = df_movies[df_movies.revenue < df_movies.revenue.median()]"
   ]
  },
  {
   "cell_type": "code",
   "execution_count": 132,
   "metadata": {},
   "outputs": [
    {
     "data": {
      "text/html": [
       "<div>\n",
       "<style scoped>\n",
       "    .dataframe tbody tr th:only-of-type {\n",
       "        vertical-align: middle;\n",
       "    }\n",
       "\n",
       "    .dataframe tbody tr th {\n",
       "        vertical-align: top;\n",
       "    }\n",
       "\n",
       "    .dataframe thead th {\n",
       "        text-align: right;\n",
       "    }\n",
       "</style>\n",
       "<table border=\"1\" class=\"dataframe\">\n",
       "  <thead>\n",
       "    <tr style=\"text-align: right;\">\n",
       "      <th></th>\n",
       "      <th>popularity</th>\n",
       "      <th>budget</th>\n",
       "      <th>revenue</th>\n",
       "      <th>original_title</th>\n",
       "      <th>cast</th>\n",
       "      <th>director</th>\n",
       "      <th>runtime</th>\n",
       "      <th>genres</th>\n",
       "      <th>production_companies</th>\n",
       "      <th>release_date</th>\n",
       "      <th>vote_count</th>\n",
       "      <th>vote_average</th>\n",
       "      <th>release_year</th>\n",
       "      <th>budget_adj</th>\n",
       "      <th>revenue_adj</th>\n",
       "    </tr>\n",
       "  </thead>\n",
       "  <tbody>\n",
       "    <tr>\n",
       "      <th>0</th>\n",
       "      <td>32.985763</td>\n",
       "      <td>150000000</td>\n",
       "      <td>1513528810</td>\n",
       "      <td>Jurassic World</td>\n",
       "      <td>Chris Pratt|Bryce Dallas Howard|Irrfan Khan|Vi...</td>\n",
       "      <td>Colin Trevorrow</td>\n",
       "      <td>124.0</td>\n",
       "      <td>Action|Adventure|Science Fiction|Thriller</td>\n",
       "      <td>Universal Studios|Amblin Entertainment|Legenda...</td>\n",
       "      <td>6/9/15</td>\n",
       "      <td>5562</td>\n",
       "      <td>6.5</td>\n",
       "      <td>2015</td>\n",
       "      <td>1.379999e+08</td>\n",
       "      <td>1.392446e+09</td>\n",
       "    </tr>\n",
       "    <tr>\n",
       "      <th>1</th>\n",
       "      <td>28.419936</td>\n",
       "      <td>150000000</td>\n",
       "      <td>378436354</td>\n",
       "      <td>Mad Max: Fury Road</td>\n",
       "      <td>Tom Hardy|Charlize Theron|Hugh Keays-Byrne|Nic...</td>\n",
       "      <td>George Miller</td>\n",
       "      <td>120.0</td>\n",
       "      <td>Action|Adventure|Science Fiction|Thriller</td>\n",
       "      <td>Village Roadshow Pictures|Kennedy Miller Produ...</td>\n",
       "      <td>5/13/15</td>\n",
       "      <td>6185</td>\n",
       "      <td>7.1</td>\n",
       "      <td>2015</td>\n",
       "      <td>1.379999e+08</td>\n",
       "      <td>3.481613e+08</td>\n",
       "    </tr>\n",
       "    <tr>\n",
       "      <th>2</th>\n",
       "      <td>13.112507</td>\n",
       "      <td>110000000</td>\n",
       "      <td>295238201</td>\n",
       "      <td>Insurgent</td>\n",
       "      <td>Shailene Woodley|Theo James|Kate Winslet|Ansel...</td>\n",
       "      <td>Robert Schwentke</td>\n",
       "      <td>119.0</td>\n",
       "      <td>Adventure|Science Fiction|Thriller</td>\n",
       "      <td>Summit Entertainment|Mandeville Films|Red Wago...</td>\n",
       "      <td>3/18/15</td>\n",
       "      <td>2480</td>\n",
       "      <td>6.3</td>\n",
       "      <td>2015</td>\n",
       "      <td>1.012000e+08</td>\n",
       "      <td>2.716190e+08</td>\n",
       "    </tr>\n",
       "  </tbody>\n",
       "</table>\n",
       "</div>"
      ],
      "text/plain": [
       "   popularity     budget     revenue      original_title  \\\n",
       "0   32.985763  150000000  1513528810      Jurassic World   \n",
       "1   28.419936  150000000   378436354  Mad Max: Fury Road   \n",
       "2   13.112507  110000000   295238201           Insurgent   \n",
       "\n",
       "                                                cast          director  \\\n",
       "0  Chris Pratt|Bryce Dallas Howard|Irrfan Khan|Vi...   Colin Trevorrow   \n",
       "1  Tom Hardy|Charlize Theron|Hugh Keays-Byrne|Nic...     George Miller   \n",
       "2  Shailene Woodley|Theo James|Kate Winslet|Ansel...  Robert Schwentke   \n",
       "\n",
       "   runtime                                     genres  \\\n",
       "0    124.0  Action|Adventure|Science Fiction|Thriller   \n",
       "1    120.0  Action|Adventure|Science Fiction|Thriller   \n",
       "2    119.0         Adventure|Science Fiction|Thriller   \n",
       "\n",
       "                                production_companies release_date  vote_count  \\\n",
       "0  Universal Studios|Amblin Entertainment|Legenda...       6/9/15        5562   \n",
       "1  Village Roadshow Pictures|Kennedy Miller Produ...      5/13/15        6185   \n",
       "2  Summit Entertainment|Mandeville Films|Red Wago...      3/18/15        2480   \n",
       "\n",
       "   vote_average  release_year    budget_adj   revenue_adj  \n",
       "0           6.5          2015  1.379999e+08  1.392446e+09  \n",
       "1           7.1          2015  1.379999e+08  3.481613e+08  \n",
       "2           6.3          2015  1.012000e+08  2.716190e+08  "
      ]
     },
     "execution_count": 132,
     "metadata": {},
     "output_type": "execute_result"
    }
   ],
   "source": [
    "df_movies.head(3)"
   ]
  },
  {
   "cell_type": "code",
   "execution_count": 133,
   "metadata": {},
   "outputs": [
    {
     "data": {
      "text/plain": [
       "count    10834.000000\n",
       "mean       102.363855\n",
       "std         30.948225\n",
       "min          2.000000\n",
       "25%         90.000000\n",
       "50%         99.000000\n",
       "75%        112.000000\n",
       "max        900.000000\n",
       "Name: runtime, dtype: float64"
      ]
     },
     "execution_count": 133,
     "metadata": {},
     "output_type": "execute_result"
    }
   ],
   "source": [
    "df_movies.runtime.describe()"
   ]
  },
  {
   "cell_type": "code",
   "execution_count": 134,
   "metadata": {},
   "outputs": [],
   "source": [
    "# Finding a relationship between movie runtime and revenue"
   ]
  },
  {
   "cell_type": "code",
   "execution_count": 135,
   "metadata": {},
   "outputs": [
    {
     "data": {
      "image/png": "[encoded data removed]",
      "text/plain": [
       "<Figure size 432x288 with 1 Axes>"
      ]
     },
     "metadata": {
      "needs_background": "light"
     },
     "output_type": "display_data"
    }
   ],
   "source": [
    "plt.scatter(df_movies.runtime, df_movies.revenue, s = 10);\n",
    "plt.xlabel('Runtimes in minutes')\n",
    "plt.ylabel('Revenue in 100 million dollars')\n",
    "plt.title('Revenue earned for different movie runtimes');"
   ]
  },
  {
   "cell_type": "markdown",
   "metadata": {},
   "source": [
    "#### There seems to be a correlation between movie runtimes and revenue\n",
    "\n",
    "#### The movies with a runtime between (approx) 70 and 210 minutes seem to be the most common ones and have the highest revenue"
   ]
  },
  {
   "cell_type": "code",
   "execution_count": null,
   "metadata": {},
   "outputs": [],
   "source": []
  },
  {
   "cell_type": "markdown",
   "metadata": {},
   "source": [
    "#### Lets see the runtimes vs the revenues for movies with a revenue greater than the median"
   ]
  },
  {
   "cell_type": "code",
   "execution_count": 136,
   "metadata": {},
   "outputs": [
    {
     "data": {
      "image/png": "[encoded data removed]",
      "text/plain": [
       "<Figure size 432x288 with 1 Axes>"
      ]
     },
     "metadata": {
      "needs_background": "light"
     },
     "output_type": "display_data"
    }
   ],
   "source": [
    "plt.scatter(df_high_rev.runtime, df_high_rev.revenue,s=10);\n",
    "plt.xlabel('Runtime in minutes')\n",
    "plt.ylabel('Revenue in 100 million dollars');\n",
    "plt.title('Revenue for different runtimes for movies with a revenue greater than median');"
   ]
  },
  {
   "cell_type": "markdown",
   "metadata": {},
   "source": [
    "#### The runtimes vs the revenues for movies with a revenue lesser than the median"
   ]
  },
  {
   "cell_type": "code",
   "execution_count": 137,
   "metadata": {},
   "outputs": [
    {
     "data": {
      "image/png": "[encoded data removed]",
      "text/plain": [
       "<Figure size 432x288 with 1 Axes>"
      ]
     },
     "metadata": {
      "needs_background": "light"
     },
     "output_type": "display_data"
    }
   ],
   "source": [
    "plt.scatter(df_low_rev.runtime, df_low_rev.revenue, s = 10);\n",
    "plt.xlabel('Runtime in minutes')\n",
    "plt.ylabel('Revenue in 100 million dollars')\n",
    "plt.title('Revenue for different runtimes for movies with a revenue lesser than median');\n",
    "plt.xticks(np.arange(0,800,100));\n",
    "plt.yticks(np.arange(0,3,0.5));\n"
   ]
  },
  {
   "cell_type": "markdown",
   "metadata": {},
   "source": [
    "#### This was expected because the movies with revenues below the median do not have a significant amount of revenue."
   ]
  },
  {
   "cell_type": "code",
   "execution_count": null,
   "metadata": {},
   "outputs": [],
   "source": []
  },
  {
   "cell_type": "markdown",
   "metadata": {},
   "source": [
    "## Average Vote for Different movie runtimes"
   ]
  },
  {
   "cell_type": "code",
   "execution_count": 138,
   "metadata": {},
   "outputs": [
    {
     "data": {
      "image/png": "[encoded data removed]",
      "text/plain": [
       "<Figure size 432x288 with 1 Axes>"
      ]
     },
     "metadata": {
      "needs_background": "light"
     },
     "output_type": "display_data"
    }
   ],
   "source": [
    "plt.scatter(df_movies.runtime, df_movies.vote_average, s = 10)\n",
    "plt.xlabel('Movie Runtimes')\n",
    "plt.ylabel('Average Vote')\n",
    "plt.title('Average Vote for different movie runtimes');"
   ]
  },
  {
   "cell_type": "code",
   "execution_count": 139,
   "metadata": {},
   "outputs": [
    {
     "data": {
      "image/png": "[encoded data removed]",
      "text/plain": [
       "<Figure size 432x288 with 1 Axes>"
      ]
     },
     "metadata": {
      "needs_background": "light"
     },
     "output_type": "display_data"
    }
   ],
   "source": [
    "plt.scatter(df_high_rev.runtime, df_high_rev.vote_average, s = 10);\n",
    "plt.xlabel('Movie Runtimes')\n",
    "plt.ylabel('Average Vote')\n",
    "plt.title('Average Vote for Different runtimes for movies with a revenue greater than the median');"
   ]
  },
  {
   "cell_type": "code",
   "execution_count": 140,
   "metadata": {},
   "outputs": [
    {
     "data": {
      "image/png": "[encoded data removed]",
      "text/plain": [
       "<Figure size 432x288 with 1 Axes>"
      ]
     },
     "metadata": {
      "needs_background": "light"
     },
     "output_type": "display_data"
    }
   ],
   "source": [
    "plt.scatter(df_low_rev.runtime, df_low_rev.vote_average, s = 10)\n",
    "plt.xlabel('Movie Runtimes')\n",
    "plt.ylabel('Average Vote')\n",
    "plt.title('Average Vote for Different runtimes for movies with a revenue lesser than the median');\n",
    "plt.xticks(np.arange(0,800,100))\n",
    "plt.yticks(np.arange(0,10,2));"
   ]
  },
  {
   "cell_type": "markdown",
   "metadata": {},
   "source": [
    "### Movies with a revenue greater than the median had a higher average vote in comparison to \n",
    "### the movies with a revenue lower than the median which had almost no average vote"
   ]
  },
  {
   "cell_type": "code",
   "execution_count": null,
   "metadata": {},
   "outputs": [],
   "source": []
  },
  {
   "cell_type": "markdown",
   "metadata": {},
   "source": [
    "<a id='conclusions'></a>\n",
    "# Conclusions"
   ]
  },
  {
   "cell_type": "markdown",
   "metadata": {},
   "source": [
    "## Here are the questions that have been answered using this dataset"
   ]
  },
  {
   "cell_type": "markdown",
   "metadata": {
    "collapsed": true
   },
   "source": [
    "### [1) How does a budget of a movie correlate to its revenue?](#q1)"
   ]
  },
  {
   "cell_type": "markdown",
   "metadata": {},
   "source": [
    "### [2) Does a higher budget correlate to a higher average vote?](#q2)"
   ]
  },
  {
   "cell_type": "markdown",
   "metadata": {},
   "source": [
    "### [3) Which Genres received the highest average vote?](#q3)"
   ]
  },
  {
   "cell_type": "markdown",
   "metadata": {},
   "source": [
    "### [4) What are the shares of revenue among the different movie genres?](#q4)"
   ]
  },
  {
   "cell_type": "markdown",
   "metadata": {},
   "source": [
    "### [5) Is there a correlation between movie runtimes and revenue? Is there a correlation between movie runtimes and the average vote received?](#q5)"
   ]
  },
  {
   "cell_type": "code",
   "execution_count": null,
   "metadata": {},
   "outputs": [],
   "source": []
  },
  {
   "cell_type": "markdown",
   "metadata": {},
   "source": [
    "### Limitations\n",
    "\n",
    "This dataset does have a few limitations. \n",
    "\n",
    "There a many movies (almost half the movies in the dataset) which do not have any amount of budget or revenue. \n",
    "I could identify them as null values and drop almost half of my dataset but I retained those values to ensure the correctness\n",
    "of the other relationships in my analysis. \n",
    "\n",
    "There are also many outliers in my graphs which are most likely to represent incorrectly supploed values in the dataset.\n",
    "\n"
   ]
  },
  {
   "cell_type": "markdown",
   "metadata": {},
   "source": [
    "# Thank You !"
   ]
  }
 ],
 "metadata": {
  "kernelspec": {
   "display_name": "Python 3",
   "language": "python",
   "name": "python3"
  },
  "language_info": {
   "codemirror_mode": {
    "name": "ipython",
    "version": 3
   },
   "file_extension": ".py",
   "mimetype": "text/x-python",
   "name": "python",
   "nbconvert_exporter": "python",
   "pygments_lexer": "ipython3",
   "version": "3.7.0"
  }
 },
 "nbformat": 4,
 "nbformat_minor": 2
}
